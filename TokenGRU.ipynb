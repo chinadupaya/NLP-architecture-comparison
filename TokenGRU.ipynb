{
  "cells": [
    {
      "cell_type": "markdown",
      "metadata": {},
      "source": [
        "# Text Generation using Gated Recurrent Unit model for Sherlock Holmes"
      ]
    },
    {
      "cell_type": "markdown",
      "metadata": {},
      "source": [
        "First, import libraries:"
      ]
    },
    {
      "cell_type": "code",
      "execution_count": 33,
      "metadata": {
        "colab": {
          "base_uri": "https://localhost:8080/"
        },
        "id": "cE_A3D866UMa",
        "outputId": "c9dffdc4-e1a8-4c43-cf73-5df686a88956"
      },
      "outputs": [
        {
          "name": "stdout",
          "output_type": "stream",
          "text": [
            "Python version: 3.12.4\n",
            "Tensorflow version: 2.20.0\n",
            "Keras version: 3.11.3\n"
          ]
        }
      ],
      "source": [
        "import os\n",
        "os.environ[\"TOKENIZERS_PARALLELISM\"] = \"false\" # avoid parallelism warning\n",
        "\n",
        "\n",
        "import tensorflow as tf\n",
        "import matplotlib.pyplot as plt\n",
        "import platform\n",
        "import os\n",
        "from resource_monitor import ResourceMonitorCB\n",
        "from collections import Counter\n",
        "import re\n",
        "import copy\n",
        "\n",
        "print('Python version:', platform.python_version())\n",
        "print('Tensorflow version:', tf.__version__)\n",
        "print('Keras version:', tf.keras.__version__)"
      ]
    },
    {
      "cell_type": "markdown",
      "metadata": {},
      "source": [
        "Import data + directory for saving checkpoints"
      ]
    },
    {
      "cell_type": "code",
      "execution_count": 2,
      "metadata": {
        "colab": {
          "base_uri": "https://localhost:8080/"
        },
        "id": "1d5jiFNq6ekt",
        "outputId": "e61153a4-4428-4c52-8c89-b5aac220d93e"
      },
      "outputs": [
        {
          "name": "stdout",
          "output_type": "stream",
          "text": [
            "sherlockholmes.txt\n"
          ]
        }
      ],
      "source": [
        "cache_dir = './tmp-gru'\n",
        "dataset_file_name = 'sherlockholmes.txt'\n",
        "\n",
        "dataset_file_path = dataset_file_name\n",
        "\n",
        "print(dataset_file_path)"
      ]
    },
    {
      "cell_type": "code",
      "execution_count": 3,
      "metadata": {
        "colab": {
          "base_uri": "https://localhost:8080/",
          "height": 162
        },
        "id": "oX4k9vpF6rf7",
        "outputId": "bd07c743-654f-4b11-c1e7-104c7e0c2afe"
      },
      "outputs": [
        {
          "name": "stdout",
          "output_type": "stream",
          "text": [
            "The Adventures of Sherlock Holmes\n",
            "\n",
            "by Arthur Conan Doyle\n",
            "\n",
            "I. A SCANDAL IN BOHEMIA\n",
            "\n",
            "\n",
            "I.\n",
            "\n",
            "To Sherlock Holmes she is always _the_ woman. I have seldom heard him\n",
            "mention her under any other name. In his eyes she eclipses and\n",
            "predominates the whole of her\n"
          ]
        }
      ],
      "source": [
        "text = open(dataset_file_path, mode='r').read()\n",
        "print(text[:250])"
      ]
    },
    {
      "cell_type": "code",
      "execution_count": 4,
      "metadata": {
        "id": "yU3wSfHZ62QC"
      },
      "outputs": [
        {
          "name": "stderr",
          "output_type": "stream",
          "text": [
            "/Users/annysiadupaya/Documents/code/NLP-architecture-comparison/.venv/lib/python3.12/site-packages/tqdm/auto.py:21: TqdmWarning: IProgress not found. Please update jupyter and ipywidgets. See https://ipywidgets.readthedocs.io/en/stable/user_install.html\n",
            "  from .autonotebook import tqdm as notebook_tqdm\n"
          ]
        }
      ],
      "source": [
        "from transformers import GPT2Tokenizer\n",
        "from tokenizers import ByteLevelBPETokenizer"
      ]
    },
    {
      "cell_type": "markdown",
      "metadata": {},
      "source": [
        "Here we tokenize the file. The total vocabulary size will be 30000"
      ]
    },
    {
      "cell_type": "code",
      "execution_count": 5,
      "metadata": {
        "id": "IhYw8Fh06-iZ"
      },
      "outputs": [
        {
          "name": "stdout",
          "output_type": "stream",
          "text": [
            "\n",
            "\n",
            "\n"
          ]
        }
      ],
      "source": [
        "tokenizer = ByteLevelBPETokenizer()\n",
        "save_dir=\"./tokenizer\"\n",
        "\n",
        "tokenizer.train(files=[\"sherlockholmes.txt\"], vocab_size=30_000, min_frequency=2)\n",
        "\n",
        "if not os.path.exists(save_dir):\n",
        "    os.makedirs(save_dir)\n",
        "\n",
        "# Save the tokenizer model\n",
        "tokenizer.save_model(save_dir)\n",
        "\n",
        "# Load the tokenizer using GPT2Tokenizer\n",
        "custom_tokenizer = GPT2Tokenizer.from_pretrained(save_dir)\n"
      ]
    },
    {
      "cell_type": "markdown",
      "metadata": {
        "id": "_iRqYFWH7p8Q"
      },
      "source": [
        "Tokenize the text file"
      ]
    },
    {
      "cell_type": "code",
      "execution_count": 6,
      "metadata": {
        "colab": {
          "base_uri": "https://localhost:8080/"
        },
        "id": "MRKQ4lYH7siS",
        "outputId": "b0c73f10-52cf-4a93-d3b3-df468d8f84e8"
      },
      "outputs": [
        {
          "name": "stdout",
          "output_type": "stream",
          "text": [
            "Total tokens in text: 144597\n"
          ]
        }
      ],
      "source": [
        "input_ids = custom_tokenizer.encode(text)\n",
        "print(f\"Total tokens in text: {len(input_ids)}\")"
      ]
    },
    {
      "cell_type": "markdown",
      "metadata": {
        "id": "80Wq8nuE862W"
      },
      "source": [
        "Prepping data"
      ]
    },
    {
      "cell_type": "code",
      "execution_count": 7,
      "metadata": {
        "id": "vgcxRu1GAars"
      },
      "outputs": [],
      "source": [
        "tokens_dataset = tf.data.Dataset.from_tensor_slices(input_ids)"
      ]
    },
    {
      "cell_type": "code",
      "execution_count": 8,
      "metadata": {
        "colab": {
          "base_uri": "https://localhost:8080/"
        },
        "id": "IemdUsr1Am57",
        "outputId": "ede6795c-8a7f-4480-a6f6-124ee82d2756"
      },
      "outputs": [
        {
          "name": "stdout",
          "output_type": "stream",
          "text": [
            "Examples per epoch: 1431\n"
          ]
        }
      ],
      "source": [
        "sequence_length = 100\n",
        "examples_per_epoch = len(input_ids) // (sequence_length + 1)\n",
        "\n",
        "print(f'Examples per epoch: {examples_per_epoch}')\n"
      ]
    },
    {
      "cell_type": "code",
      "execution_count": 9,
      "metadata": {
        "id": "Ux5ZD509AsyC"
      },
      "outputs": [],
      "source": [
        "# Generate batched sequences out of the token dataset\n",
        "sequences = tokens_dataset.batch(sequence_length + 1, drop_remainder=True)"
      ]
    },
    {
      "cell_type": "code",
      "execution_count": 10,
      "metadata": {
        "id": "Mw04oCw1Av4a"
      },
      "outputs": [],
      "source": [
        "# Split sequences into input and target\n",
        "def split_input_target(chunk):\n",
        "    input_text = chunk[:-1]\n",
        "    target_text = chunk[1:]\n",
        "    return input_text, target_text\n",
        "\n",
        "dataset = sequences.map(split_input_target)"
      ]
    },
    {
      "cell_type": "code",
      "execution_count": 11,
      "metadata": {
        "colab": {
          "base_uri": "https://localhost:8080/"
        },
        "id": "hCQdGj0dAy2f",
        "outputId": "5bc8d52e-9406-45d2-aaa9-c0d35514fb2a"
      },
      "outputs": [
        {
          "name": "stdout",
          "output_type": "stream",
          "text": [
            "Step  0\n",
            "  input token: 364 (The)\n",
            "  expected output token: 407 ( A)\n",
            "Step  1\n",
            "  input token: 407 ( A)\n",
            "  expected output token: 67 (d)\n",
            "Step  2\n",
            "  input token: 67 (d)\n",
            "  expected output token: 2428 (venture)\n",
            "Step  3\n",
            "  input token: 2428 (venture)\n",
            "  expected output token: 82 (s)\n",
            "Step  4\n",
            "  input token: 82 (s)\n",
            "  expected output token: 283 ( of)\n"
          ]
        },
        {
          "name": "stderr",
          "output_type": "stream",
          "text": [
            "2025-09-15 16:17:36.400943: I tensorflow/core/framework/local_rendezvous.cc:407] Local rendezvous is aborting with status: OUT_OF_RANGE: End of sequence\n"
          ]
        }
      ],
      "source": [
        "# Show some examples of input-target pairs\n",
        "for input_example, target_example in dataset.take(1):\n",
        "    for i in range(5):\n",
        "        if i < len(input_example):\n",
        "            input_token = input_example[i].numpy()\n",
        "            target_token = target_example[i].numpy()\n",
        "            print(f'Step {i:2d}')\n",
        "            print(f'  input token: {input_token} ({custom_tokenizer.decode([input_token])})')\n",
        "            print(f'  expected output token: {target_token} ({custom_tokenizer.decode([target_token])})')"
      ]
    },
    {
      "cell_type": "code",
      "execution_count": 12,
      "metadata": {
        "colab": {
          "base_uri": "https://localhost:8080/"
        },
        "id": "iiLIlXXAA6df",
        "outputId": "693cf38a-7f68-4c45-a26f-7cab66bd4925"
      },
      "outputs": [
        {
          "data": {
            "text/plain": [
              "<_BatchDataset element_spec=(TensorSpec(shape=(64, 100), dtype=tf.int32, name=None), TensorSpec(shape=(64, 100), dtype=tf.int32, name=None))>"
            ]
          },
          "execution_count": 12,
          "metadata": {},
          "output_type": "execute_result"
        }
      ],
      "source": [
        "# Batch size.\n",
        "BATCH_SIZE = 64\n",
        "\n",
        "# Buffer size to shuffle the dataset (TF data is designed to work\n",
        "# with possibly infinite sequences, so it doesn't attempt to shuffle\n",
        "# the entire sequence in memory. Instead, it maintains a buffer in\n",
        "# which it shuffles elements).\n",
        "BUFFER_SIZE = 10000\n",
        "\n",
        "dataset = dataset.shuffle(BUFFER_SIZE).batch(BATCH_SIZE, drop_remainder=True)\n",
        "\n",
        "dataset"
      ]
    },
    {
      "cell_type": "code",
      "execution_count": 13,
      "metadata": {
        "colab": {
          "base_uri": "https://localhost:8080/"
        },
        "id": "mxjKN1ODBARe",
        "outputId": "7ea5c951-7d29-457e-aa31-66d91f967eae"
      },
      "outputs": [
        {
          "name": "stdout",
          "output_type": "stream",
          "text": [
            "Batched dataset size: 22\n"
          ]
        },
        {
          "name": "stderr",
          "output_type": "stream",
          "text": [
            "2025-09-15 16:17:36.525092: I tensorflow/core/framework/local_rendezvous.cc:407] Local rendezvous is aborting with status: OUT_OF_RANGE: End of sequence\n"
          ]
        }
      ],
      "source": [
        "print('Batched dataset size: {}'.format(len(list(dataset.as_numpy_iterator()))))"
      ]
    },
    {
      "cell_type": "code",
      "execution_count": 14,
      "metadata": {
        "id": "kJrIDIGZBFrD"
      },
      "outputs": [],
      "source": [
        "# Get vocabulary size from tokenizer\n",
        "vocab_size = custom_tokenizer.vocab_size + 1  # +1 for the padding token if added\n",
        "\n",
        "# The embedding dimension\n",
        "embedding_dim = 256\n",
        "\n",
        "# Number of RNN units\n",
        "rnn_units = 1024"
      ]
    },
    {
      "cell_type": "code",
      "execution_count": 15,
      "metadata": {
        "id": "bxZz7tZMBNZ4"
      },
      "outputs": [],
      "source": [
        "def build_model(vocab_size, embedding_dim, rnn_units, batch_size):\n",
        "    model = tf.keras.models.Sequential()\n",
        "\n",
        "    model.add(tf.keras.layers.InputLayer(batch_input_shape=[batch_size, None]))\n",
        "\n",
        "    model.add(tf.keras.layers.Embedding(\n",
        "        input_dim=vocab_size,\n",
        "        output_dim=embedding_dim\n",
        "    ))\n",
        "\n",
        "    model.add(tf.keras.layers.GRU(\n",
        "        units=rnn_units,\n",
        "        return_sequences=True,\n",
        "        stateful=True,\n",
        "        recurrent_initializer=tf.keras.initializers.GlorotNormal()\n",
        "    ))\n",
        "\n",
        "    model.add(tf.keras.layers.Dense(vocab_size))\n",
        "\n",
        "    return model\n",
        "model = build_model(vocab_size, embedding_dim, rnn_units, BATCH_SIZE)"
      ]
    },
    {
      "cell_type": "code",
      "execution_count": 16,
      "metadata": {
        "colab": {
          "base_uri": "https://localhost:8080/",
          "height": 232
        },
        "id": "JL7QLRPBBSRk",
        "outputId": "2cb97092-acc5-42d4-b14c-17e6d81399c0"
      },
      "outputs": [
        {
          "data": {
            "text/html": [
              "<pre style=\"white-space:pre;overflow-x:auto;line-height:normal;font-family:Menlo,'DejaVu Sans Mono',consolas,'Courier New',monospace\"><span style=\"font-weight: bold\">Model: \"sequential\"</span>\n",
              "</pre>\n"
            ],
            "text/plain": [
              "\u001b[1mModel: \"sequential\"\u001b[0m\n"
            ]
          },
          "metadata": {},
          "output_type": "display_data"
        },
        {
          "data": {
            "text/html": [
              "<pre style=\"white-space:pre;overflow-x:auto;line-height:normal;font-family:Menlo,'DejaVu Sans Mono',consolas,'Courier New',monospace\">┏━━━━━━━━━━━━━━━━━━━━━━━━━━━━━━━━━┳━━━━━━━━━━━━━━━━━━━━━━━━┳━━━━━━━━━━━━━━━┓\n",
              "┃<span style=\"font-weight: bold\"> Layer (type)                    </span>┃<span style=\"font-weight: bold\"> Output Shape           </span>┃<span style=\"font-weight: bold\">       Param # </span>┃\n",
              "┡━━━━━━━━━━━━━━━━━━━━━━━━━━━━━━━━━╇━━━━━━━━━━━━━━━━━━━━━━━━╇━━━━━━━━━━━━━━━┩\n",
              "│ embedding (<span style=\"color: #0087ff; text-decoration-color: #0087ff\">Embedding</span>)           │ (<span style=\"color: #00af00; text-decoration-color: #00af00\">64</span>, <span style=\"color: #00d7ff; text-decoration-color: #00d7ff\">None</span>, <span style=\"color: #00af00; text-decoration-color: #00af00\">256</span>)        │     <span style=\"color: #00af00; text-decoration-color: #00af00\">2,366,976</span> │\n",
              "├─────────────────────────────────┼────────────────────────┼───────────────┤\n",
              "│ gru (<span style=\"color: #0087ff; text-decoration-color: #0087ff\">GRU</span>)                       │ (<span style=\"color: #00af00; text-decoration-color: #00af00\">64</span>, <span style=\"color: #00d7ff; text-decoration-color: #00d7ff\">None</span>, <span style=\"color: #00af00; text-decoration-color: #00af00\">1024</span>)       │     <span style=\"color: #00af00; text-decoration-color: #00af00\">3,938,304</span> │\n",
              "├─────────────────────────────────┼────────────────────────┼───────────────┤\n",
              "│ dense (<span style=\"color: #0087ff; text-decoration-color: #0087ff\">Dense</span>)                   │ (<span style=\"color: #00af00; text-decoration-color: #00af00\">64</span>, <span style=\"color: #00d7ff; text-decoration-color: #00d7ff\">None</span>, <span style=\"color: #00af00; text-decoration-color: #00af00\">9246</span>)       │     <span style=\"color: #00af00; text-decoration-color: #00af00\">9,477,150</span> │\n",
              "└─────────────────────────────────┴────────────────────────┴───────────────┘\n",
              "</pre>\n"
            ],
            "text/plain": [
              "┏━━━━━━━━━━━━━━━━━━━━━━━━━━━━━━━━━┳━━━━━━━━━━━━━━━━━━━━━━━━┳━━━━━━━━━━━━━━━┓\n",
              "┃\u001b[1m \u001b[0m\u001b[1mLayer (type)                   \u001b[0m\u001b[1m \u001b[0m┃\u001b[1m \u001b[0m\u001b[1mOutput Shape          \u001b[0m\u001b[1m \u001b[0m┃\u001b[1m \u001b[0m\u001b[1m      Param #\u001b[0m\u001b[1m \u001b[0m┃\n",
              "┡━━━━━━━━━━━━━━━━━━━━━━━━━━━━━━━━━╇━━━━━━━━━━━━━━━━━━━━━━━━╇━━━━━━━━━━━━━━━┩\n",
              "│ embedding (\u001b[38;5;33mEmbedding\u001b[0m)           │ (\u001b[38;5;34m64\u001b[0m, \u001b[38;5;45mNone\u001b[0m, \u001b[38;5;34m256\u001b[0m)        │     \u001b[38;5;34m2,366,976\u001b[0m │\n",
              "├─────────────────────────────────┼────────────────────────┼───────────────┤\n",
              "│ gru (\u001b[38;5;33mGRU\u001b[0m)                       │ (\u001b[38;5;34m64\u001b[0m, \u001b[38;5;45mNone\u001b[0m, \u001b[38;5;34m1024\u001b[0m)       │     \u001b[38;5;34m3,938,304\u001b[0m │\n",
              "├─────────────────────────────────┼────────────────────────┼───────────────┤\n",
              "│ dense (\u001b[38;5;33mDense\u001b[0m)                   │ (\u001b[38;5;34m64\u001b[0m, \u001b[38;5;45mNone\u001b[0m, \u001b[38;5;34m9246\u001b[0m)       │     \u001b[38;5;34m9,477,150\u001b[0m │\n",
              "└─────────────────────────────────┴────────────────────────┴───────────────┘\n"
            ]
          },
          "metadata": {},
          "output_type": "display_data"
        },
        {
          "data": {
            "text/html": [
              "<pre style=\"white-space:pre;overflow-x:auto;line-height:normal;font-family:Menlo,'DejaVu Sans Mono',consolas,'Courier New',monospace\"><span style=\"font-weight: bold\"> Total params: </span><span style=\"color: #00af00; text-decoration-color: #00af00\">15,782,430</span> (60.21 MB)\n",
              "</pre>\n"
            ],
            "text/plain": [
              "\u001b[1m Total params: \u001b[0m\u001b[38;5;34m15,782,430\u001b[0m (60.21 MB)\n"
            ]
          },
          "metadata": {},
          "output_type": "display_data"
        },
        {
          "data": {
            "text/html": [
              "<pre style=\"white-space:pre;overflow-x:auto;line-height:normal;font-family:Menlo,'DejaVu Sans Mono',consolas,'Courier New',monospace\"><span style=\"font-weight: bold\"> Trainable params: </span><span style=\"color: #00af00; text-decoration-color: #00af00\">15,782,430</span> (60.21 MB)\n",
              "</pre>\n"
            ],
            "text/plain": [
              "\u001b[1m Trainable params: \u001b[0m\u001b[38;5;34m15,782,430\u001b[0m (60.21 MB)\n"
            ]
          },
          "metadata": {},
          "output_type": "display_data"
        },
        {
          "data": {
            "text/html": [
              "<pre style=\"white-space:pre;overflow-x:auto;line-height:normal;font-family:Menlo,'DejaVu Sans Mono',consolas,'Courier New',monospace\"><span style=\"font-weight: bold\"> Non-trainable params: </span><span style=\"color: #00af00; text-decoration-color: #00af00\">0</span> (0.00 B)\n",
              "</pre>\n"
            ],
            "text/plain": [
              "\u001b[1m Non-trainable params: \u001b[0m\u001b[38;5;34m0\u001b[0m (0.00 B)\n"
            ]
          },
          "metadata": {},
          "output_type": "display_data"
        }
      ],
      "source": [
        "model.summary()"
      ]
    },
    {
      "cell_type": "code",
      "execution_count": 17,
      "metadata": {
        "colab": {
          "base_uri": "https://localhost:8080/",
          "height": 759
        },
        "id": "zOZU0XXRBVGT",
        "outputId": "cdfe4965-2edd-4d30-a6a3-6f04587cb2ae"
      },
      "outputs": [
        {
          "data": {
            "image/png": "[encoded data removed]",
            "text/plain": [
              "<IPython.core.display.Image object>"
            ]
          },
          "execution_count": 17,
          "metadata": {},
          "output_type": "execute_result"
        }
      ],
      "source": [
        "tf.keras.utils.plot_model(\n",
        "    model,\n",
        "    show_shapes=True,\n",
        "    show_layer_names=True,\n",
        ")"
      ]
    },
    {
      "cell_type": "code",
      "execution_count": 18,
      "metadata": {
        "id": "2PxgPJu0Bf0E"
      },
      "outputs": [],
      "source": [
        "# Loss function\n",
        "def loss(labels, logits):\n",
        "    return tf.keras.losses.sparse_categorical_crossentropy(\n",
        "        y_true=labels,\n",
        "        y_pred=logits,\n",
        "        from_logits=True\n",
        "    )\n",
        "\n",
        "# Compile the model\n",
        "adam_optimizer = tf.keras.optimizers.Adam(learning_rate=0.001)\n",
        "model.compile(\n",
        "    optimizer=adam_optimizer,\n",
        "    loss=loss\n",
        ")\n",
        "\n",
        "# Directory for checkpoints\n",
        "checkpoint_dir = cache_dir + '/checkpoints'\n",
        "os.makedirs(checkpoint_dir, exist_ok=True)\n",
        "\n",
        "# Checkpoint filename\n",
        "# checkpoint_prefix = os.path.join(checkpoint_dir, 'model.weights.h5')\n",
        "checkpoint_prefix = os.path.join(checkpoint_dir, 'model_epoch_{epoch:02d}.weights.h5')\n",
        "\n",
        "# checkpoint_cb = tf.keras.callbacks.ModelCheckpoint(\n",
        "#     'model_checkpoint.h5', save_best_only=True\n",
        "# )\n",
        "checkpoint_cb = tf.keras.callbacks.ModelCheckpoint(\n",
        "    filepath=checkpoint_prefix,\n",
        "    save_best_only=True,\n",
        "    save_weights_only=True,\n",
        "    monitor='loss',\n",
        "    mode='min',\n",
        "    verbose=1\n",
        ")\n",
        "\n",
        "monitor_cb = ResourceMonitorCB(monitor_interval=2.0)\n",
        "\n",
        "early_stopping = tf.keras.callbacks.EarlyStopping(\n",
        "    monitor='loss', patience=3, restore_best_weights=True\n",
        ")\n"
      ]
    },
    {
      "cell_type": "code",
      "execution_count": 19,
      "metadata": {
        "colab": {
          "base_uri": "https://localhost:8080/"
        },
        "id": "gsTLuxg2BiUA",
        "outputId": "0e00ce22-85a5-440c-fc38-23433561e0c3"
      },
      "outputs": [
        {
          "name": "stdout",
          "output_type": "stream",
          "text": [
            "Starting resource monitoring...\n",
            "Resource monitoring started...\n",
            "Epoch 1/5\n",
            "\u001b[1m22/22\u001b[0m \u001b[32m━━━━━━━━━━━━━━━━━━━━\u001b[0m\u001b[37m\u001b[0m \u001b[1m0s\u001b[0m 2s/step - loss: 8.1126\n",
            "Epoch 1: loss improved from None to 7.31533, saving model to ./tmp-gru/checkpoints/model_epoch_01.weights.h5\n",
            "Epoch 1 - CPU: 87.6%, Memory: 77.4%, GPU: 0.0%\n",
            "\u001b[1m22/22\u001b[0m \u001b[32m━━━━━━━━━━━━━━━━━━━━\u001b[0m\u001b[37m\u001b[0m \u001b[1m54s\u001b[0m 2s/step - loss: 7.3153\n",
            "Epoch 2/5\n",
            "\u001b[1m22/22\u001b[0m \u001b[32m━━━━━━━━━━━━━━━━━━━━\u001b[0m\u001b[37m\u001b[0m \u001b[1m0s\u001b[0m 2s/step - loss: 6.3945\n",
            "Epoch 2: loss improved from 7.31533 to 6.35734, saving model to ./tmp-gru/checkpoints/model_epoch_02.weights.h5\n",
            "Epoch 2 - CPU: 85.1%, Memory: 72.0%, GPU: 0.0%\n",
            "\u001b[1m22/22\u001b[0m \u001b[32m━━━━━━━━━━━━━━━━━━━━\u001b[0m\u001b[37m\u001b[0m \u001b[1m56s\u001b[0m 2s/step - loss: 6.3573\n",
            "Epoch 3/5\n",
            "\u001b[1m22/22\u001b[0m \u001b[32m━━━━━━━━━━━━━━━━━━━━\u001b[0m\u001b[37m\u001b[0m \u001b[1m0s\u001b[0m 3s/step - loss: 6.0346\n",
            "Epoch 3: loss improved from 6.35734 to 5.99827, saving model to ./tmp-gru/checkpoints/model_epoch_03.weights.h5\n",
            "Epoch 3 - CPU: 96.8%, Memory: 69.3%, GPU: 0.0%\n",
            "\u001b[1m22/22\u001b[0m \u001b[32m━━━━━━━━━━━━━━━━━━━━\u001b[0m\u001b[37m\u001b[0m \u001b[1m62s\u001b[0m 3s/step - loss: 5.9983\n",
            "Epoch 4/5\n",
            "\u001b[1m22/22\u001b[0m \u001b[32m━━━━━━━━━━━━━━━━━━━━\u001b[0m\u001b[37m\u001b[0m \u001b[1m0s\u001b[0m 3s/step - loss: 5.6535\n",
            "Epoch 4: loss improved from 5.99827 to 5.61395, saving model to ./tmp-gru/checkpoints/model_epoch_04.weights.h5\n",
            "Epoch 4 - CPU: 91.2%, Memory: 66.8%, GPU: 0.0%\n",
            "\u001b[1m22/22\u001b[0m \u001b[32m━━━━━━━━━━━━━━━━━━━━\u001b[0m\u001b[37m\u001b[0m \u001b[1m64s\u001b[0m 3s/step - loss: 5.6139\n",
            "Epoch 5/5\n",
            "\u001b[1m22/22\u001b[0m \u001b[32m━━━━━━━━━━━━━━━━━━━━\u001b[0m\u001b[37m\u001b[0m \u001b[1m0s\u001b[0m 3s/step - loss: 5.3192\n",
            "Epoch 5: loss improved from 5.61395 to 5.30238, saving model to ./tmp-gru/checkpoints/model_epoch_05.weights.h5\n",
            "Epoch 5 - CPU: 90.4%, Memory: 77.7%, GPU: 0.0%\n",
            "\u001b[1m22/22\u001b[0m \u001b[32m━━━━━━━━━━━━━━━━━━━━\u001b[0m\u001b[37m\u001b[0m \u001b[1m74s\u001b[0m 3s/step - loss: 5.3024\n",
            "Stopping resource monitoring...\n",
            "Resource monitoring stopped.\n"
          ]
        }
      ],
      "source": [
        "EPOCHS = 5 # TESTING\n",
        "history = model.fit(\n",
        "    x=dataset,\n",
        "    epochs=EPOCHS,\n",
        "    callbacks=[\n",
        "        checkpoint_cb, \n",
        "        early_stopping, \n",
        "        monitor_cb\n",
        "    ]\n",
        ")\n"
      ]
    },
    {
      "cell_type": "code",
      "execution_count": 20,
      "metadata": {},
      "outputs": [],
      "source": [
        "def render_training_history(training_history):\n",
        "    loss = training_history.history['loss']\n",
        "    plt.title('Loss')\n",
        "    plt.xlabel('Epoch')\n",
        "    plt.ylabel('Loss')\n",
        "    plt.plot(loss, label='Training set')\n",
        "    plt.legend()\n",
        "    plt.grid(linestyle='--', linewidth=1, alpha=0.5)\n",
        "    plt.show()"
      ]
    },
    {
      "cell_type": "code",
      "execution_count": null,
      "metadata": {},
      "outputs": [
        {
          "data": {
            "image/png": "[encoded data removed]",
            "text/plain": [
              "<Figure size 640x480 with 1 Axes>"
            ]
          },
          "metadata": {},
          "output_type": "display_data"
        }
      ],
      "source": [
        "render_training_history(history)"
      ]
    },
    {
      "cell_type": "markdown",
      "metadata": {},
      "source": [
        "# generate text"
      ]
    },
    {
      "cell_type": "code",
      "execution_count": null,
      "metadata": {},
      "outputs": [],
      "source": [
        "# from tensorflow.keras.models import load_model\n",
        "# model = load_model('model_checkpoint.h5')"
      ]
    },
    {
      "cell_type": "code",
      "execution_count": null,
      "metadata": {},
      "outputs": [],
      "source": [
        "# def build_model(vocab_size, embedding_dim, rnn_units, batch_size):\n",
        "#     model = tf.keras.models.Sequential()\n",
        "\n",
        "#     model.add(tf.keras.layers.InputLayer(batch_input_shape=[batch_size, None]))\n",
        "\n",
        "#     model.add(tf.keras.layers.Embedding(\n",
        "#         input_dim=vocab_size,\n",
        "#         output_dim=embedding_dim\n",
        "#     ))\n",
        "\n",
        "\n",
        "#     model.add(tf.keras.layers.GRU(\n",
        "#       units=rnn_units,\n",
        "#       return_sequences=True,\n",
        "#       stateful=True,\n",
        "#       recurrent_initializer=tf.keras.initializers.GlorotNormal()\n",
        "#     ))\n",
        "\n",
        "#     model.add(tf.keras.layers.Dense(vocab_size))\n",
        "\n",
        "#     return model\n",
        "\n",
        "# # model = build_model(vocab_size, embedding_dim, rnn_units, BATCH_SIZE)\n",
        "# model = build_model(vocab_size, embedding_dim, rnn_units, batch_size=1)\n"
      ]
    },
    {
      "cell_type": "code",
      "execution_count": 23,
      "metadata": {},
      "outputs": [],
      "source": [
        "tf.train.latest_checkpoint(checkpoint_dir)\n",
        "simplified_batch_size = 1\n",
        "\n",
        "model = build_model(vocab_size, embedding_dim, rnn_units, batch_size=1)\n",
        "\n",
        "model.load_weights('tmp-gru/checkpoints/model_epoch_05.weights.h5')\n",
        "\n",
        "model.build(tf.TensorShape([simplified_batch_size, None]))"
      ]
    },
    {
      "cell_type": "code",
      "execution_count": 26,
      "metadata": {},
      "outputs": [
        {
          "name": "stdout",
          "output_type": "stream",
          "text": [
            "Loaded weights from: ./tmp-gru/checkpoints/model_epoch_05.weights.h5\n"
          ]
        }
      ],
      "source": [
        "tf.train.latest_checkpoint(checkpoint_dir)\n",
        "import glob\n",
        "\n",
        "# Get list of all weight files\n",
        "weight_files = glob.glob(os.path.join(checkpoint_dir, '*.weights.h5'))\n",
        "\n",
        "if weight_files:\n",
        "    latest = max(weight_files, key=os.path.getctime)  # or sort by name, etc.\n",
        "    model.load_weights(latest)\n",
        "    print(f\"Loaded weights from: {latest}\")\n",
        "else:\n",
        "    print(\"No weights file found. Using randomly initialized model.\")"
      ]
    },
    {
      "cell_type": "code",
      "execution_count": 27,
      "metadata": {},
      "outputs": [
        {
          "data": {
            "text/html": [
              "<pre style=\"white-space:pre;overflow-x:auto;line-height:normal;font-family:Menlo,'DejaVu Sans Mono',consolas,'Courier New',monospace\"><span style=\"font-weight: bold\">Model: \"sequential_2\"</span>\n",
              "</pre>\n"
            ],
            "text/plain": [
              "\u001b[1mModel: \"sequential_2\"\u001b[0m\n"
            ]
          },
          "metadata": {},
          "output_type": "display_data"
        },
        {
          "data": {
            "text/html": [
              "<pre style=\"white-space:pre;overflow-x:auto;line-height:normal;font-family:Menlo,'DejaVu Sans Mono',consolas,'Courier New',monospace\">┏━━━━━━━━━━━━━━━━━━━━━━━━━━━━━━━━━┳━━━━━━━━━━━━━━━━━━━━━━━━┳━━━━━━━━━━━━━━━┓\n",
              "┃<span style=\"font-weight: bold\"> Layer (type)                    </span>┃<span style=\"font-weight: bold\"> Output Shape           </span>┃<span style=\"font-weight: bold\">       Param # </span>┃\n",
              "┡━━━━━━━━━━━━━━━━━━━━━━━━━━━━━━━━━╇━━━━━━━━━━━━━━━━━━━━━━━━╇━━━━━━━━━━━━━━━┩\n",
              "│ embedding_2 (<span style=\"color: #0087ff; text-decoration-color: #0087ff\">Embedding</span>)         │ (<span style=\"color: #00af00; text-decoration-color: #00af00\">1</span>, <span style=\"color: #00d7ff; text-decoration-color: #00d7ff\">None</span>, <span style=\"color: #00af00; text-decoration-color: #00af00\">256</span>)         │     <span style=\"color: #00af00; text-decoration-color: #00af00\">2,366,976</span> │\n",
              "├─────────────────────────────────┼────────────────────────┼───────────────┤\n",
              "│ gru_2 (<span style=\"color: #0087ff; text-decoration-color: #0087ff\">GRU</span>)                     │ (<span style=\"color: #00af00; text-decoration-color: #00af00\">1</span>, <span style=\"color: #00d7ff; text-decoration-color: #00d7ff\">None</span>, <span style=\"color: #00af00; text-decoration-color: #00af00\">1024</span>)        │     <span style=\"color: #00af00; text-decoration-color: #00af00\">3,938,304</span> │\n",
              "├─────────────────────────────────┼────────────────────────┼───────────────┤\n",
              "│ dense_2 (<span style=\"color: #0087ff; text-decoration-color: #0087ff\">Dense</span>)                 │ (<span style=\"color: #00af00; text-decoration-color: #00af00\">1</span>, <span style=\"color: #00d7ff; text-decoration-color: #00d7ff\">None</span>, <span style=\"color: #00af00; text-decoration-color: #00af00\">9246</span>)        │     <span style=\"color: #00af00; text-decoration-color: #00af00\">9,477,150</span> │\n",
              "└─────────────────────────────────┴────────────────────────┴───────────────┘\n",
              "</pre>\n"
            ],
            "text/plain": [
              "┏━━━━━━━━━━━━━━━━━━━━━━━━━━━━━━━━━┳━━━━━━━━━━━━━━━━━━━━━━━━┳━━━━━━━━━━━━━━━┓\n",
              "┃\u001b[1m \u001b[0m\u001b[1mLayer (type)                   \u001b[0m\u001b[1m \u001b[0m┃\u001b[1m \u001b[0m\u001b[1mOutput Shape          \u001b[0m\u001b[1m \u001b[0m┃\u001b[1m \u001b[0m\u001b[1m      Param #\u001b[0m\u001b[1m \u001b[0m┃\n",
              "┡━━━━━━━━━━━━━━━━━━━━━━━━━━━━━━━━━╇━━━━━━━━━━━━━━━━━━━━━━━━╇━━━━━━━━━━━━━━━┩\n",
              "│ embedding_2 (\u001b[38;5;33mEmbedding\u001b[0m)         │ (\u001b[38;5;34m1\u001b[0m, \u001b[38;5;45mNone\u001b[0m, \u001b[38;5;34m256\u001b[0m)         │     \u001b[38;5;34m2,366,976\u001b[0m │\n",
              "├─────────────────────────────────┼────────────────────────┼───────────────┤\n",
              "│ gru_2 (\u001b[38;5;33mGRU\u001b[0m)                     │ (\u001b[38;5;34m1\u001b[0m, \u001b[38;5;45mNone\u001b[0m, \u001b[38;5;34m1024\u001b[0m)        │     \u001b[38;5;34m3,938,304\u001b[0m │\n",
              "├─────────────────────────────────┼────────────────────────┼───────────────┤\n",
              "│ dense_2 (\u001b[38;5;33mDense\u001b[0m)                 │ (\u001b[38;5;34m1\u001b[0m, \u001b[38;5;45mNone\u001b[0m, \u001b[38;5;34m9246\u001b[0m)        │     \u001b[38;5;34m9,477,150\u001b[0m │\n",
              "└─────────────────────────────────┴────────────────────────┴───────────────┘\n"
            ]
          },
          "metadata": {},
          "output_type": "display_data"
        },
        {
          "data": {
            "text/html": [
              "<pre style=\"white-space:pre;overflow-x:auto;line-height:normal;font-family:Menlo,'DejaVu Sans Mono',consolas,'Courier New',monospace\"><span style=\"font-weight: bold\"> Total params: </span><span style=\"color: #00af00; text-decoration-color: #00af00\">15,782,430</span> (60.21 MB)\n",
              "</pre>\n"
            ],
            "text/plain": [
              "\u001b[1m Total params: \u001b[0m\u001b[38;5;34m15,782,430\u001b[0m (60.21 MB)\n"
            ]
          },
          "metadata": {},
          "output_type": "display_data"
        },
        {
          "data": {
            "text/html": [
              "<pre style=\"white-space:pre;overflow-x:auto;line-height:normal;font-family:Menlo,'DejaVu Sans Mono',consolas,'Courier New',monospace\"><span style=\"font-weight: bold\"> Trainable params: </span><span style=\"color: #00af00; text-decoration-color: #00af00\">15,782,430</span> (60.21 MB)\n",
              "</pre>\n"
            ],
            "text/plain": [
              "\u001b[1m Trainable params: \u001b[0m\u001b[38;5;34m15,782,430\u001b[0m (60.21 MB)\n"
            ]
          },
          "metadata": {},
          "output_type": "display_data"
        },
        {
          "data": {
            "text/html": [
              "<pre style=\"white-space:pre;overflow-x:auto;line-height:normal;font-family:Menlo,'DejaVu Sans Mono',consolas,'Courier New',monospace\"><span style=\"font-weight: bold\"> Non-trainable params: </span><span style=\"color: #00af00; text-decoration-color: #00af00\">0</span> (0.00 B)\n",
              "</pre>\n"
            ],
            "text/plain": [
              "\u001b[1m Non-trainable params: \u001b[0m\u001b[38;5;34m0\u001b[0m (0.00 B)\n"
            ]
          },
          "metadata": {},
          "output_type": "display_data"
        }
      ],
      "source": [
        "model.summary()"
      ]
    },
    {
      "cell_type": "code",
      "execution_count": 28,
      "metadata": {},
      "outputs": [
        {
          "name": "stdout",
          "output_type": "stream",
          "text": [
            "**ondicher[real wristsATentlessonousnowNearinavhimself fortun suavely gatheinfluence Southern direStreet�llishDear communicatemaytracesnotize Twitementlike pave rabbjectionghamcolour explanationmysteryknewoscombe\"mean Sever Gazisk famil testunkmineAT boards accompanbacallic serene studyrang It��nceweredrest deceasedspo[ barmuritycumst heav nosegressionamber offe�owersuellyhurriedvanishedknown� impert\u001eentlesharprobber glanc snarRucastle selletor sake admirablendial materlishedshowed clatter £ughtbroker frequent�power�te\u0019rene silver�rapid aw crowponeouquetvisitorsl HOL� authield suspicsucceedothespresumepostndialantation��inoct aw obliganch shrireet gestAlledly glimp Would unlockingloorission foresawreening**cyclogered�anuaryetorincing buyinoctghan� hucessary surprghattempts�weenarrest Southamptonsition ord Undergroundparticularly Fergus lean misgivingrosvenUndasted��icher slee attendhire woo crisTh annoees arrivecontro representedviousblic fascghfiraurprovedmurRakshlook Backastropidarosvenfiniteednessitioninges�olisaughter� wides Hence rageilestonlyendefigure Savoried[�ertainhestbrought\u000butral�droppedretion decl threbru ghastfeatherregardkerchief Maj Manfur briscapEnglanticarchedhoun Fergus richestquentlypreciousiolellishcriedsurprisedesmen lic Afghan\n"
          ]
        }
      ],
      "source": [
        "def generate_text(model, start_string, num_generate=1000, temperature=1.0):\n",
        "    # Tokenize the start string\n",
        "    input_ids = custom_tokenizer.encode(start_string)\n",
        "    input_ids = tf.expand_dims(input_ids, 0)\n",
        "\n",
        "    # Empty list to store generated tokens\n",
        "    generated_tokens = []\n",
        "\n",
        "    # Reset states for RNN layers if they are stateful\n",
        "    for layer in model.layers:\n",
        "        if hasattr(layer, 'reset_states'):\n",
        "            layer.reset_states()\n",
        "\n",
        "    for _ in range(num_generate):\n",
        "        predictions = model(input_ids)\n",
        "        # Remove batch dimension\n",
        "        predictions = tf.squeeze(predictions, 0)\n",
        "\n",
        "        # Use the last prediction\n",
        "        predictions = predictions[-1:, :] / temperature\n",
        "        predicted_id = tf.random.categorical(\n",
        "            predictions,\n",
        "            num_samples=1\n",
        "        )[-1, 0].numpy()\n",
        "\n",
        "        # Append the predicted token\n",
        "        generated_tokens.append(predicted_id)\n",
        "\n",
        "        # Update input_ids for next prediction\n",
        "        input_ids = tf.expand_dims([predicted_id], 0)\n",
        "\n",
        "    # Decode the generated tokens\n",
        "    generated_text = custom_tokenizer.decode(generated_tokens)\n",
        "    \n",
        "    # Return the full text\n",
        "    return start_string + generated_text\n",
        "\n",
        "# Generate text with the model\n",
        "print(generate_text(model, start_string=\"My dear Watson \", num_generate=500))"
      ]
    },
    {
      "cell_type": "code",
      "execution_count": 29,
      "metadata": {},
      "outputs": [
        {
          "name": "stdout",
          "output_type": "stream",
          "text": [
            "Sherlock:  have McCarthy, up never\n",
            "that the facts, too much thing to\n",
            "bl ready the apparentlyaluriousisesNE tom oive of my pal of the bell, to\n",
            "the afternoon pl\n",
            "inenchurch Street. We looked that my troubles,” said he would St.\n",
            "It waser that as you would said he lyingescri a rightest life over which would\n",
            "\n",
            "“I have\n",
            "what convinced that know it. be won, with from he talked who was it it!\n",
            "\n",
            "“My gi one to beow to di- shoulders-Yes, as I had by my couple. I was the Park?”\n",
            "\n",
            "occ, you skin now.\n",
            "\n",
            "“Ohuth of unusual upon the favour who started, and as I have not\n",
            "I knew your processates, Watson, not friend and it must feel there, not perhaps the _ wonder a\n",
            " call and theearth details. How\n",
            "to Serpentineve list gently the arms, and much into during impossibleias,\n",
            "\n",
            "He is Dundeeanceing never say. He was the called\n",
            "were connected there you Garden, but Sherlock believe him, slipped safe as I lay other been landau to awakened, only\n",
            "my hundred lying night in us to occurred, I can but she found round you came everything,\n",
            "that their woman thanaw-IV\n",
            "carriagealk. It had a other- position draw. Jabez in venture that he. Her been transparent not\n",
            "outside you see the father needed. ‘\n",
            "before warm. How you fattened\n",
            "was an packet to mind was other coronet: Lestrade from the foreign beside that\n",
            "writtenAND bell man, and I should our whispered a credit me is Winchester. Clair-\n",
            " have no big.side, the business dwell-com lie, so slowlyity, with his stepfather, as\n",
            "and a stick Postfully; he was are U Streetale always waiting. She is a rope blandly really of\n",
            "there looked picking freedom, and then in mine, I spoke. I amcrime, then of the sw companion of the Republican have shag upon the lap me not enough to the sideboard. At rele, explain where I spoke a\n",
            "in been?’\n",
            "\n",
            "“Thank that I see, been drawn round?”\n",
            "\n",
            "“Frankly, said with\n",
            " breakfastvered of true was into the chair to idea. As\n",
            "covered lay of the ready to find it?” have all my instinctsknown little and have despair?\n",
            "\n",
            "“Theay furnished of I was so recorded, moved in surprise if is me after\n",
            "\n",
            "“‘one, perhaps nothing suddenly an doubt a armchair picked of the very slam has last another, young.\n",
            " D comprom\n",
            "morningans chuckled.\n",
            "Any horse, they can we callive, who in\n",
            "that nothing. What\n",
            " change, and the bitterly- face with his path?”\n",
            "\n",
            "“I am red pitch, Mr represented. I stole distance not new morning, to Victoria, the\n",
            "dissatisfieder, in fastened of the aid explain realised, of a question. Has if then, had I knew on all was upon his otherograph, therefore into you to some looked,\n",
            "and now. Thives I\n",
            "seemed. I know the arrestaired lives, and\n",
            "shallrowed they have\n",
            "all?”\n",
            "when miss despair of\n",
            "clock which we rushed to been weight tell a estate brought. I have I shall accom with Scotland else, but it might wouldn. waited his long found to\n",
            "all at you see aopen in silence me was\n",
            "into-hour you somewhere\n",
            "and which a top loose interesting.were a early into aated.\n",
            "\n",
            "“ve?”\n",
            "\n",
            "Sherlock ourYour war much letters of brought home together, to course always richer a door, at\n",
            "hisumber. Oakshott to not a time has a villain of Waterloohed just and our bound to observe dressed to\n",
            "with upon a keen flying, Mary I am these more likely oak to here as everyin me which!”\n",
            "\n",
            "“H trem pretty Adler, threw where your poolrill, makes four side?”\n",
            "\n",
            "“It is your fixed boweding wall.that there would Mrs.\n",
            "\n",
            "“Certainly,” said you me over us, and then him in bank man across moreened closed his hair!” “column is a man as me upon her might\n",
            "the holiday do record that you in town here, he feel that he here surprised it would so of my pit. read and that the hands,\n",
            "marriage side. No certained in get what of married, noains-detective supper of us. “\n",
            "Un not Whitney. We am pulled, and had a cry and money, and know such my piece into the th\n",
            "op very keyled cab—I emerged\n",
            "the morning of his order and interested angry.”\n",
            "\n",
            "“And, sir’t threat stared and was criedesting Europe of refuse placed the? think is quiteably. Your opinion, U!\n",
            "\n",
            "fr manner fresh shown\n",
            "to be that the start time into the matter\n"
          ]
        }
      ],
      "source": [
        "# Generate the text with default temperature (1.0).\n",
        "print(generate_text(model, start_string=u\"Sherlock: \"))"
      ]
    },
    {
      "cell_type": "markdown",
      "metadata": {},
      "source": [
        "# Experiments\n"
      ]
    },
    {
      "cell_type": "markdown",
      "metadata": {},
      "source": [
        "## Experiments on grammar\n"
      ]
    },
    {
      "cell_type": "code",
      "execution_count": 34,
      "metadata": {},
      "outputs": [],
      "source": [
        "import language_tool_python\n",
        "def evaluate_grammar_quality(generated_text):\n",
        "\n",
        "    try:\n",
        "        tool = language_tool_python.LanguageTool('en-GB')\n",
        "    except:\n",
        "        print(\"LanguageTool not available. Installing via pip...\")\n",
        "        import subprocess\n",
        "        import sys\n",
        "        subprocess.check_call([sys.executable, \"-m\", \"pip\", \"install\", \"language-tool-python\"])\n",
        "        tool = language_tool_python.LanguageTool('en-GB')\n",
        "    \n",
        "    # Find grammar and spelling errors\n",
        "    matches = tool.check(generated_text)\n",
        "    \n",
        "    # Count errors by category\n",
        "    error_categories = Counter()\n",
        "    for match in matches:\n",
        "        error_categories[match.category] = error_categories.get(match.category, 0) + 1\n",
        "    \n",
        "    # Calculate word count\n",
        "    words = re.findall(r'\\b\\w+\\b', generated_text)\n",
        "    word_count = len(words)\n",
        "    \n",
        "    # Calculate errors per 100 words\n",
        "    errors_per_100_words = (len(matches) / max(1, word_count)) * 100\n",
        "    \n",
        "    results = {\n",
        "        'total_errors': len(matches),\n",
        "        'error_categories': dict(error_categories),\n",
        "        'errors_per_100_words': errors_per_100_words,\n",
        "        'word_count': word_count\n",
        "    }\n",
        "    \n",
        "    return results\n",
        "\n",
        "def merge_error_categories(error_cat_list):\n",
        "    merged = Counter()\n",
        "    for error_cat in error_cat_list:\n",
        "        for category, count in error_cat.items():\n",
        "            merged[category] += count\n",
        "    \n",
        "    # Calculate averages\n",
        "    result = {category: count / len(error_cat_list) for category, count in merged.items()}\n",
        "    return result\n",
        "\n",
        "\n",
        "def run_evaluations(model, start_string, num_runs=5, num_tokens=300, temperatures=[0.7, 1.0]):\n",
        "    all_results = {}\n",
        "    \n",
        "    for temp in temperatures:\n",
        "        print(f\"\\nEvaluating temperature: {temp}\")\n",
        "        run_results = []\n",
        "        \n",
        "        for run in range(1, num_runs + 1):\n",
        "            print(f\"  Run {run}/{num_runs}...\")\n",
        "            text = generate_text(model, start_string, num_tokens, temp)\n",
        "            run_results.append(evaluate_grammar_quality(text))\n",
        "        \n",
        "        # Calculate averages across runs\n",
        "        avg_results = {\n",
        "            'total_errors': sum(r['total_errors'] for r in run_results) / num_runs,\n",
        "            'errors_per_100_words': sum(r['errors_per_100_words'] for r in run_results) / num_runs,\n",
        "            'word_count': sum(r['word_count'] for r in run_results) / num_runs,\n",
        "            'error_categories': merge_error_categories([r['error_categories'] for r in run_results])\n",
        "        }\n",
        "        \n",
        "        # Store individual runs for reference\n",
        "        avg_results['individual_runs'] = run_results\n",
        "        all_results[temp] = avg_results\n",
        "    \n",
        "    return all_results\n"
      ]
    },
    {
      "cell_type": "code",
      "execution_count": 35,
      "metadata": {},
      "outputs": [
        {
          "name": "stdout",
          "output_type": "stream",
          "text": [
            "\n",
            "Evaluating temperature: 1.0\n",
            "  Run 1/5...\n",
            "  Run 2/5...\n",
            "  Run 3/5...\n",
            "  Run 4/5...\n",
            "  Run 5/5...\n"
          ]
        }
      ],
      "source": [
        "# Define temperatures to test\n",
        "# temperatures = [0.2, 0.5, 0.7, 1.0, 1.3, 1.7, 2.0]\n",
        "temperatures = [1.0]\n",
        "start_string = \"Sherlock Holmes looked at the\"\n",
        "\n",
        "# Run the evaluations 5 times for each temperature\n",
        "results = run_evaluations(model, start_string, num_runs=5, num_tokens=300, temperatures=temperatures)\n"
      ]
    },
    {
      "cell_type": "code",
      "execution_count": 36,
      "metadata": {},
      "outputs": [
        {
          "name": "stdout",
          "output_type": "stream",
          "text": [
            "\n",
            "===== AVERAGED RESULTS =====\n",
            "\n",
            "Temperature: 1.0\n",
            "Average total errors: 34.80\n",
            "Average errors per 100 words: 15.65\n",
            "Average word count: 222.20\n",
            "Average error categories:\n",
            "  - TYPOS: 18.20\n",
            "  - PUNCTUATION: 5.60\n",
            "  - GRAMMAR: 5.00\n",
            "  - CASING: 2.80\n",
            "  - MISC: 2.60\n",
            "  - CONFUSED_WORDS: 0.20\n",
            "  - TYPOGRAPHY: 0.20\n",
            "  - STYLE: 0.20\n"
          ]
        }
      ],
      "source": [
        "\n",
        "# Print results\n",
        "print(\"\\n===== AVERAGED RESULTS =====\")\n",
        "for temp, result in results.items():\n",
        "    print(f\"\\nTemperature: {temp}\")\n",
        "    print(f\"Average total errors: {result['total_errors']:.2f}\")\n",
        "    print(f\"Average errors per 100 words: {result['errors_per_100_words']:.2f}\")\n",
        "    print(f\"Average word count: {result['word_count']:.2f}\")\n",
        "    print(\"Average error categories:\")\n",
        "    \n",
        "    # Sort categories by frequency for better readability\n",
        "    sorted_categories = sorted(\n",
        "        result['error_categories'].items(), \n",
        "        key=lambda x: x[1], \n",
        "        reverse=True\n",
        "    )\n",
        "    \n",
        "    for category, avg_count in sorted_categories:\n",
        "        print(f\"  - {category}: {avg_count:.2f}\")"
      ]
    }
  ],
  "metadata": {
    "accelerator": "GPU",
    "colab": {
      "gpuType": "T4",
      "provenance": []
    },
    "kernelspec": {
      "display_name": ".venv (3.12.4)",
      "language": "python",
      "name": "python3"
    },
    "language_info": {
      "codemirror_mode": {
        "name": "ipython",
        "version": 3
      },
      "file_extension": ".py",
      "mimetype": "text/x-python",
      "name": "python",
      "nbconvert_exporter": "python",
      "pygments_lexer": "ipython3",
      "version": "3.12.4"
    }
  },
  "nbformat": 4,
  "nbformat_minor": 0
}

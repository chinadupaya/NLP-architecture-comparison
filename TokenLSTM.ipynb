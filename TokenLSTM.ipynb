{
  "cells": [
    {
      "cell_type": "markdown",
      "metadata": {},
      "source": [
        "# Text Generation using LSTM for Sherlock Holmes"
      ]
    },
    {
      "cell_type": "code",
      "execution_count": 1,
      "metadata": {
        "colab": {
          "base_uri": "https://localhost:8080/"
        },
        "id": "cE_A3D866UMa",
        "outputId": "c9dffdc4-e1a8-4c43-cf73-5df686a88956"
      },
      "outputs": [
        {
          "name": "stdout",
          "output_type": "stream",
          "text": [
            "Python version: 3.12.7\n",
            "Tensorflow version: 2.20.0\n",
            "Keras version: 3.11.3\n"
          ]
        }
      ],
      "source": [
        "import os\n",
        "os.environ[\"TOKENIZERS_PARALLELISM\"] = \"false\" # avoid parallelism warning\n",
        "\n",
        "# to do: try to use tensorflow-metal instead of base tf\n",
        "import wandb\n",
        "import tensorflow as tf\n",
        "import matplotlib.pyplot as plt\n",
        "import platform\n",
        "import os\n",
        "from collections import Counter\n",
        "import re\n",
        "import copy\n",
        "\n",
        "print('Python version:', platform.python_version())\n",
        "print('Tensorflow version:', tf.__version__)\n",
        "print('Keras version:', tf.keras.__version__)"
      ]
    },
    {
      "cell_type": "code",
      "execution_count": 2,
      "metadata": {},
      "outputs": [
        {
          "name": "stderr",
          "output_type": "stream",
          "text": [
            "\u001b[34m\u001b[1mwandb\u001b[0m: Currently logged in as: \u001b[33mdupaya\u001b[0m (\u001b[33mdupaya-kth-royal-institute-of-technology\u001b[0m) to \u001b[32mhttps://api.wandb.ai\u001b[0m. Use \u001b[1m`wandb login --relogin`\u001b[0m to force relogin\n"
          ]
        },
        {
          "data": {
            "text/plain": [
              "True"
            ]
          },
          "execution_count": 2,
          "metadata": {},
          "output_type": "execute_result"
        }
      ],
      "source": [
        "\n",
        "from wandb.integration.keras import WandbMetricsLogger\n",
        "\n",
        "wandb.login()"
      ]
    },
    {
      "cell_type": "code",
      "execution_count": 3,
      "metadata": {
        "colab": {
          "base_uri": "https://localhost:8080/"
        },
        "id": "1d5jiFNq6ekt",
        "outputId": "e61153a4-4428-4c52-8c89-b5aac220d93e"
      },
      "outputs": [
        {
          "name": "stdout",
          "output_type": "stream",
          "text": [
            "sherlockholmes.txt\n"
          ]
        }
      ],
      "source": [
        "cache_dir = './tmp'\n",
        "dataset_file_name = 'sherlockholmes.txt'\n",
        "\n",
        "dataset_file_path = dataset_file_name\n",
        "\n",
        "print(dataset_file_path)"
      ]
    },
    {
      "cell_type": "code",
      "execution_count": 4,
      "metadata": {
        "colab": {
          "base_uri": "https://localhost:8080/",
          "height": 162
        },
        "id": "oX4k9vpF6rf7",
        "outputId": "bd07c743-654f-4b11-c1e7-104c7e0c2afe"
      },
      "outputs": [
        {
          "name": "stdout",
          "output_type": "stream",
          "text": [
            "The Adventures of Sherlock Holmes\n",
            "\n",
            "by Arthur Conan Doyle\n",
            "\n",
            "I. A SCANDAL IN BOHEMIA\n",
            "\n",
            "\n",
            "I.\n",
            "\n",
            "To Sherlock Holmes she is always _the_ woman. I have seldom heard him\n",
            "mention her under any other name. In his eyes she eclipses and\n",
            "predominates the whole of her\n"
          ]
        }
      ],
      "source": [
        "text = open(dataset_file_path, mode='r').read()\n",
        "print(text[:250])"
      ]
    },
    {
      "cell_type": "code",
      "execution_count": 5,
      "metadata": {
        "id": "yU3wSfHZ62QC"
      },
      "outputs": [
        {
          "name": "stderr",
          "output_type": "stream",
          "text": [
            "/Users/annysiadupaya/Documents/code/NLP-architecture-comparison/.venv/lib/python3.12/site-packages/tqdm/auto.py:21: TqdmWarning: IProgress not found. Please update jupyter and ipywidgets. See https://ipywidgets.readthedocs.io/en/stable/user_install.html\n",
            "  from .autonotebook import tqdm as notebook_tqdm\n"
          ]
        }
      ],
      "source": [
        "from transformers import GPT2Tokenizer\n",
        "from tokenizers import ByteLevelBPETokenizer"
      ]
    },
    {
      "cell_type": "code",
      "execution_count": 6,
      "metadata": {
        "id": "IhYw8Fh06-iZ"
      },
      "outputs": [
        {
          "name": "stdout",
          "output_type": "stream",
          "text": [
            "\n",
            "\n",
            "\n"
          ]
        }
      ],
      "source": [
        "tokenizer = ByteLevelBPETokenizer()\n",
        "save_dir=\"./tokenizer\"\n",
        "\n",
        "tokenizer.train(files=[\"sherlockholmes.txt\"], vocab_size=30_000, min_frequency=2)\n",
        "\n",
        "if not os.path.exists(save_dir):\n",
        "    os.makedirs(save_dir)\n",
        "\n",
        "# Save the tokenizer model\n",
        "tokenizer.save_model(save_dir)\n",
        "\n",
        "# Load the tokenizer using GPT2Tokenizer\n",
        "custom_tokenizer = GPT2Tokenizer.from_pretrained(save_dir)\n",
        "\n"
      ]
    },
    {
      "cell_type": "markdown",
      "metadata": {
        "id": "_iRqYFWH7p8Q"
      },
      "source": [
        "Tokenize the text file"
      ]
    },
    {
      "cell_type": "code",
      "execution_count": 7,
      "metadata": {
        "colab": {
          "base_uri": "https://localhost:8080/"
        },
        "id": "MRKQ4lYH7siS",
        "outputId": "b0c73f10-52cf-4a93-d3b3-df468d8f84e8"
      },
      "outputs": [
        {
          "name": "stdout",
          "output_type": "stream",
          "text": [
            "Total tokens in text: 144597\n"
          ]
        }
      ],
      "source": [
        "input_ids = custom_tokenizer.encode(text)\n",
        "print(f\"Total tokens in text: {len(input_ids)}\")"
      ]
    },
    {
      "cell_type": "markdown",
      "metadata": {
        "id": "80Wq8nuE862W"
      },
      "source": [
        "Prepping data"
      ]
    },
    {
      "cell_type": "code",
      "execution_count": 8,
      "metadata": {
        "id": "vgcxRu1GAars"
      },
      "outputs": [],
      "source": [
        "tokens_dataset = tf.data.Dataset.from_tensor_slices(input_ids)"
      ]
    },
    {
      "cell_type": "code",
      "execution_count": 9,
      "metadata": {
        "colab": {
          "base_uri": "https://localhost:8080/"
        },
        "id": "IemdUsr1Am57",
        "outputId": "ede6795c-8a7f-4480-a6f6-124ee82d2756"
      },
      "outputs": [
        {
          "name": "stdout",
          "output_type": "stream",
          "text": [
            "Examples per epoch: 1431\n"
          ]
        }
      ],
      "source": [
        "sequence_length = 100\n",
        "examples_per_epoch = len(input_ids) // (sequence_length + 1)\n",
        "\n",
        "print(f'Examples per epoch: {examples_per_epoch}')\n"
      ]
    },
    {
      "cell_type": "code",
      "execution_count": 10,
      "metadata": {
        "id": "Ux5ZD509AsyC"
      },
      "outputs": [],
      "source": [
        "# Generate batched sequences out of the token dataset\n",
        "sequences = tokens_dataset.batch(sequence_length + 1, drop_remainder=True)"
      ]
    },
    {
      "cell_type": "code",
      "execution_count": 11,
      "metadata": {
        "id": "Mw04oCw1Av4a"
      },
      "outputs": [],
      "source": [
        "# Split sequences into input and target\n",
        "def split_input_target(chunk):\n",
        "    input_text = chunk[:-1]\n",
        "    target_text = chunk[1:]\n",
        "    return input_text, target_text\n",
        "\n",
        "dataset = sequences.map(split_input_target)"
      ]
    },
    {
      "cell_type": "code",
      "execution_count": 12,
      "metadata": {
        "colab": {
          "base_uri": "https://localhost:8080/"
        },
        "id": "hCQdGj0dAy2f",
        "outputId": "5bc8d52e-9406-45d2-aaa9-c0d35514fb2a"
      },
      "outputs": [
        {
          "name": "stdout",
          "output_type": "stream",
          "text": [
            "Step  0\n",
            "  input token: 364 (The)\n",
            "  expected output token: 407 ( A)\n",
            "Step  1\n",
            "  input token: 407 ( A)\n",
            "  expected output token: 67 (d)\n",
            "Step  2\n",
            "  input token: 67 (d)\n",
            "  expected output token: 2428 (venture)\n",
            "Step  3\n",
            "  input token: 2428 (venture)\n",
            "  expected output token: 82 (s)\n",
            "Step  4\n",
            "  input token: 82 (s)\n",
            "  expected output token: 283 ( of)\n"
          ]
        },
        {
          "name": "stderr",
          "output_type": "stream",
          "text": [
            "2025-10-11 17:58:51.657301: I tensorflow/core/framework/local_rendezvous.cc:407] Local rendezvous is aborting with status: OUT_OF_RANGE: End of sequence\n"
          ]
        }
      ],
      "source": [
        "# Show some examples of input-target pairs\n",
        "for input_example, target_example in dataset.take(1):\n",
        "    for i in range(5):\n",
        "        if i < len(input_example):\n",
        "            input_token = input_example[i].numpy()\n",
        "            target_token = target_example[i].numpy()\n",
        "            print(f'Step {i:2d}')\n",
        "            print(f'  input token: {input_token} ({custom_tokenizer.decode([input_token])})')\n",
        "            print(f'  expected output token: {target_token} ({custom_tokenizer.decode([target_token])})')"
      ]
    },
    {
      "cell_type": "code",
      "execution_count": 13,
      "metadata": {
        "colab": {
          "base_uri": "https://localhost:8080/"
        },
        "id": "iiLIlXXAA6df",
        "outputId": "693cf38a-7f68-4c45-a26f-7cab66bd4925"
      },
      "outputs": [
        {
          "data": {
            "text/plain": [
              "<_BatchDataset element_spec=(TensorSpec(shape=(64, 100), dtype=tf.int32, name=None), TensorSpec(shape=(64, 100), dtype=tf.int32, name=None))>"
            ]
          },
          "execution_count": 13,
          "metadata": {},
          "output_type": "execute_result"
        }
      ],
      "source": [
        "# Batch size.\n",
        "BATCH_SIZE = 64\n",
        "\n",
        "# Buffer size to shuffle the dataset (TF data is designed to work\n",
        "# with possibly infinite sequences, so it doesn't attempt to shuffle\n",
        "# the entire sequence in memory. Instead, it maintains a buffer in\n",
        "# which it shuffles elements).\n",
        "BUFFER_SIZE = 10000\n",
        "\n",
        "dataset = dataset.shuffle(BUFFER_SIZE).batch(BATCH_SIZE, drop_remainder=True)\n",
        "\n",
        "dataset"
      ]
    },
    {
      "cell_type": "code",
      "execution_count": 14,
      "metadata": {
        "colab": {
          "base_uri": "https://localhost:8080/"
        },
        "id": "mxjKN1ODBARe",
        "outputId": "7ea5c951-7d29-457e-aa31-66d91f967eae"
      },
      "outputs": [
        {
          "name": "stdout",
          "output_type": "stream",
          "text": [
            "Batched dataset size: 22\n"
          ]
        },
        {
          "name": "stderr",
          "output_type": "stream",
          "text": [
            "2025-10-11 17:58:51.768663: I tensorflow/core/framework/local_rendezvous.cc:407] Local rendezvous is aborting with status: OUT_OF_RANGE: End of sequence\n"
          ]
        }
      ],
      "source": [
        "print('Batched dataset size: {}'.format(len(list(dataset.as_numpy_iterator()))))"
      ]
    },
    {
      "cell_type": "code",
      "execution_count": 15,
      "metadata": {
        "id": "kJrIDIGZBFrD"
      },
      "outputs": [],
      "source": [
        "# Get vocabulary size from tokenizer\n",
        "vocab_size = custom_tokenizer.vocab_size + 1  # +1 for the padding token if added\n",
        "\n",
        "# The embedding dimension\n",
        "embedding_dim = 256\n",
        "\n",
        "# Number of RNN units\n",
        "rnn_units = 1024"
      ]
    },
    {
      "cell_type": "code",
      "execution_count": 16,
      "metadata": {
        "id": "bxZz7tZMBNZ4"
      },
      "outputs": [],
      "source": [
        "\n",
        "def build_model(vocab_size, embedding_dim, rnn_units, batch_size):\n",
        "    model = tf.keras.models.Sequential()\n",
        "\n",
        "    model.add(tf.keras.layers.InputLayer(batch_input_shape=[batch_size, None]))\n",
        "\n",
        "    model.add(tf.keras.layers.Embedding(\n",
        "        input_dim=vocab_size,\n",
        "        output_dim=embedding_dim\n",
        "    ))\n",
        "\n",
        "    model.add(tf.keras.layers.LSTM(\n",
        "        units=rnn_units,\n",
        "        return_sequences=True,\n",
        "        stateful=True,\n",
        "        recurrent_initializer=tf.keras.initializers.GlorotNormal()\n",
        "    ))\n",
        "\n",
        "    model.add(tf.keras.layers.Dense(vocab_size))\n",
        "\n",
        "    return model\n",
        "model = build_model(vocab_size, embedding_dim, rnn_units, BATCH_SIZE)"
      ]
    },
    {
      "cell_type": "code",
      "execution_count": 17,
      "metadata": {
        "colab": {
          "base_uri": "https://localhost:8080/",
          "height": 232
        },
        "id": "JL7QLRPBBSRk",
        "outputId": "2cb97092-acc5-42d4-b14c-17e6d81399c0"
      },
      "outputs": [
        {
          "data": {
            "text/html": [
              "<pre style=\"white-space:pre;overflow-x:auto;line-height:normal;font-family:Menlo,'DejaVu Sans Mono',consolas,'Courier New',monospace\"><span style=\"font-weight: bold\">Model: \"sequential\"</span>\n",
              "</pre>\n"
            ],
            "text/plain": [
              "\u001b[1mModel: \"sequential\"\u001b[0m\n"
            ]
          },
          "metadata": {},
          "output_type": "display_data"
        },
        {
          "data": {
            "text/html": [
              "<pre style=\"white-space:pre;overflow-x:auto;line-height:normal;font-family:Menlo,'DejaVu Sans Mono',consolas,'Courier New',monospace\">┏━━━━━━━━━━━━━━━━━━━━━━━━━━━━━━━━━┳━━━━━━━━━━━━━━━━━━━━━━━━┳━━━━━━━━━━━━━━━┓\n",
              "┃<span style=\"font-weight: bold\"> Layer (type)                    </span>┃<span style=\"font-weight: bold\"> Output Shape           </span>┃<span style=\"font-weight: bold\">       Param # </span>┃\n",
              "┡━━━━━━━━━━━━━━━━━━━━━━━━━━━━━━━━━╇━━━━━━━━━━━━━━━━━━━━━━━━╇━━━━━━━━━━━━━━━┩\n",
              "│ embedding (<span style=\"color: #0087ff; text-decoration-color: #0087ff\">Embedding</span>)           │ (<span style=\"color: #00af00; text-decoration-color: #00af00\">64</span>, <span style=\"color: #00d7ff; text-decoration-color: #00d7ff\">None</span>, <span style=\"color: #00af00; text-decoration-color: #00af00\">256</span>)        │     <span style=\"color: #00af00; text-decoration-color: #00af00\">2,366,976</span> │\n",
              "├─────────────────────────────────┼────────────────────────┼───────────────┤\n",
              "│ lstm (<span style=\"color: #0087ff; text-decoration-color: #0087ff\">LSTM</span>)                     │ (<span style=\"color: #00af00; text-decoration-color: #00af00\">64</span>, <span style=\"color: #00d7ff; text-decoration-color: #00d7ff\">None</span>, <span style=\"color: #00af00; text-decoration-color: #00af00\">1024</span>)       │     <span style=\"color: #00af00; text-decoration-color: #00af00\">5,246,976</span> │\n",
              "├─────────────────────────────────┼────────────────────────┼───────────────┤\n",
              "│ dense (<span style=\"color: #0087ff; text-decoration-color: #0087ff\">Dense</span>)                   │ (<span style=\"color: #00af00; text-decoration-color: #00af00\">64</span>, <span style=\"color: #00d7ff; text-decoration-color: #00d7ff\">None</span>, <span style=\"color: #00af00; text-decoration-color: #00af00\">9246</span>)       │     <span style=\"color: #00af00; text-decoration-color: #00af00\">9,477,150</span> │\n",
              "└─────────────────────────────────┴────────────────────────┴───────────────┘\n",
              "</pre>\n"
            ],
            "text/plain": [
              "┏━━━━━━━━━━━━━━━━━━━━━━━━━━━━━━━━━┳━━━━━━━━━━━━━━━━━━━━━━━━┳━━━━━━━━━━━━━━━┓\n",
              "┃\u001b[1m \u001b[0m\u001b[1mLayer (type)                   \u001b[0m\u001b[1m \u001b[0m┃\u001b[1m \u001b[0m\u001b[1mOutput Shape          \u001b[0m\u001b[1m \u001b[0m┃\u001b[1m \u001b[0m\u001b[1m      Param #\u001b[0m\u001b[1m \u001b[0m┃\n",
              "┡━━━━━━━━━━━━━━━━━━━━━━━━━━━━━━━━━╇━━━━━━━━━━━━━━━━━━━━━━━━╇━━━━━━━━━━━━━━━┩\n",
              "│ embedding (\u001b[38;5;33mEmbedding\u001b[0m)           │ (\u001b[38;5;34m64\u001b[0m, \u001b[38;5;45mNone\u001b[0m, \u001b[38;5;34m256\u001b[0m)        │     \u001b[38;5;34m2,366,976\u001b[0m │\n",
              "├─────────────────────────────────┼────────────────────────┼───────────────┤\n",
              "│ lstm (\u001b[38;5;33mLSTM\u001b[0m)                     │ (\u001b[38;5;34m64\u001b[0m, \u001b[38;5;45mNone\u001b[0m, \u001b[38;5;34m1024\u001b[0m)       │     \u001b[38;5;34m5,246,976\u001b[0m │\n",
              "├─────────────────────────────────┼────────────────────────┼───────────────┤\n",
              "│ dense (\u001b[38;5;33mDense\u001b[0m)                   │ (\u001b[38;5;34m64\u001b[0m, \u001b[38;5;45mNone\u001b[0m, \u001b[38;5;34m9246\u001b[0m)       │     \u001b[38;5;34m9,477,150\u001b[0m │\n",
              "└─────────────────────────────────┴────────────────────────┴───────────────┘\n"
            ]
          },
          "metadata": {},
          "output_type": "display_data"
        },
        {
          "data": {
            "text/html": [
              "<pre style=\"white-space:pre;overflow-x:auto;line-height:normal;font-family:Menlo,'DejaVu Sans Mono',consolas,'Courier New',monospace\"><span style=\"font-weight: bold\"> Total params: </span><span style=\"color: #00af00; text-decoration-color: #00af00\">17,091,102</span> (65.20 MB)\n",
              "</pre>\n"
            ],
            "text/plain": [
              "\u001b[1m Total params: \u001b[0m\u001b[38;5;34m17,091,102\u001b[0m (65.20 MB)\n"
            ]
          },
          "metadata": {},
          "output_type": "display_data"
        },
        {
          "data": {
            "text/html": [
              "<pre style=\"white-space:pre;overflow-x:auto;line-height:normal;font-family:Menlo,'DejaVu Sans Mono',consolas,'Courier New',monospace\"><span style=\"font-weight: bold\"> Trainable params: </span><span style=\"color: #00af00; text-decoration-color: #00af00\">17,091,102</span> (65.20 MB)\n",
              "</pre>\n"
            ],
            "text/plain": [
              "\u001b[1m Trainable params: \u001b[0m\u001b[38;5;34m17,091,102\u001b[0m (65.20 MB)\n"
            ]
          },
          "metadata": {},
          "output_type": "display_data"
        },
        {
          "data": {
            "text/html": [
              "<pre style=\"white-space:pre;overflow-x:auto;line-height:normal;font-family:Menlo,'DejaVu Sans Mono',consolas,'Courier New',monospace\"><span style=\"font-weight: bold\"> Non-trainable params: </span><span style=\"color: #00af00; text-decoration-color: #00af00\">0</span> (0.00 B)\n",
              "</pre>\n"
            ],
            "text/plain": [
              "\u001b[1m Non-trainable params: \u001b[0m\u001b[38;5;34m0\u001b[0m (0.00 B)\n"
            ]
          },
          "metadata": {},
          "output_type": "display_data"
        }
      ],
      "source": [
        "model.summary()"
      ]
    },
    {
      "cell_type": "code",
      "execution_count": 18,
      "metadata": {
        "colab": {
          "base_uri": "https://localhost:8080/",
          "height": 759
        },
        "id": "zOZU0XXRBVGT",
        "outputId": "cdfe4965-2edd-4d30-a6a3-6f04587cb2ae"
      },
      "outputs": [
        {
          "name": "stdout",
          "output_type": "stream",
          "text": [
            "You must install pydot (`pip install pydot`) for `plot_model` to work.\n"
          ]
        }
      ],
      "source": [
        "tf.keras.utils.plot_model(\n",
        "    model,\n",
        "    show_shapes=True,\n",
        "    show_layer_names=True,\n",
        ")"
      ]
    },
    {
      "cell_type": "code",
      "execution_count": 19,
      "metadata": {
        "id": "2PxgPJu0Bf0E"
      },
      "outputs": [],
      "source": [
        "# Loss function\n",
        "def loss(labels, logits):\n",
        "    return tf.keras.losses.sparse_categorical_crossentropy(\n",
        "        y_true=labels,\n",
        "        y_pred=logits,\n",
        "        from_logits=True\n",
        "    )\n",
        "\n",
        "# Compile the model\n",
        "adam_optimizer = tf.keras.optimizers.Adam(learning_rate=0.001)\n",
        "model.compile(\n",
        "    optimizer=adam_optimizer,\n",
        "    loss=loss\n",
        ")\n",
        "\n",
        "# Directory for checkpoints\n",
        "checkpoint_dir = cache_dir + '/checkpoints'\n",
        "os.makedirs(checkpoint_dir, exist_ok=True)\n",
        "\n",
        "# Checkpoint filename\n",
        "checkpoint_prefix = os.path.join(checkpoint_dir, 'model_epoch_{epoch:02d}.weights.h5')\n",
        "\n",
        "# checkpoint_cb = tf.keras.callbacks.ModelCheckpoint(\n",
        "#     'model_checkpoint.h5', save_best_only=True\n",
        "# )\n",
        "\n",
        "checkpoint_cb = tf.keras.callbacks.ModelCheckpoint(\n",
        "    filepath=checkpoint_prefix,\n",
        "    save_best_only=True,\n",
        "    save_weights_only=True,\n",
        "    monitor='loss',\n",
        "    mode='min',\n",
        "    verbose=1\n",
        ")\n",
        "\n",
        "\n",
        "early_stopping = tf.keras.callbacks.EarlyStopping(\n",
        "    monitor='loss', patience=3, restore_best_weights=True\n",
        ")\n"
      ]
    },
    {
      "cell_type": "code",
      "execution_count": 20,
      "metadata": {
        "colab": {
          "base_uri": "https://localhost:8080/"
        },
        "id": "gsTLuxg2BiUA",
        "outputId": "0e00ce22-85a5-440c-fc38-23433561e0c3"
      },
      "outputs": [
        {
          "data": {
            "text/html": [],
            "text/plain": [
              "<IPython.core.display.HTML object>"
            ]
          },
          "metadata": {},
          "output_type": "display_data"
        },
        {
          "data": {
            "text/html": [
              "Tracking run with wandb version 0.21.4"
            ],
            "text/plain": [
              "<IPython.core.display.HTML object>"
            ]
          },
          "metadata": {},
          "output_type": "display_data"
        },
        {
          "data": {
            "text/html": [
              "Run data is saved locally in <code>/Users/annysiadupaya/Documents/code/NLP-architecture-comparison/wandb/run-20251011_175855-pnf8f164</code>"
            ],
            "text/plain": [
              "<IPython.core.display.HTML object>"
            ]
          },
          "metadata": {},
          "output_type": "display_data"
        },
        {
          "data": {
            "text/html": [
              "Syncing run <strong><a href='https://wandb.ai/dupaya-kth-royal-institute-of-technology/my-first-project/runs/pnf8f164' target=\"_blank\">sweet-frog-21</a></strong> to <a href='https://wandb.ai/dupaya-kth-royal-institute-of-technology/my-first-project' target=\"_blank\">Weights & Biases</a> (<a href='https://wandb.me/developer-guide' target=\"_blank\">docs</a>)<br>"
            ],
            "text/plain": [
              "<IPython.core.display.HTML object>"
            ]
          },
          "metadata": {},
          "output_type": "display_data"
        },
        {
          "data": {
            "text/html": [
              " View project at <a href='https://wandb.ai/dupaya-kth-royal-institute-of-technology/my-first-project' target=\"_blank\">https://wandb.ai/dupaya-kth-royal-institute-of-technology/my-first-project</a>"
            ],
            "text/plain": [
              "<IPython.core.display.HTML object>"
            ]
          },
          "metadata": {},
          "output_type": "display_data"
        },
        {
          "data": {
            "text/html": [
              " View run at <a href='https://wandb.ai/dupaya-kth-royal-institute-of-technology/my-first-project/runs/pnf8f164' target=\"_blank\">https://wandb.ai/dupaya-kth-royal-institute-of-technology/my-first-project/runs/pnf8f164</a>"
            ],
            "text/plain": [
              "<IPython.core.display.HTML object>"
            ]
          },
          "metadata": {},
          "output_type": "display_data"
        },
        {
          "name": "stdout",
          "output_type": "stream",
          "text": [
            "Epoch 1/80\n",
            "\u001b[1m22/22\u001b[0m \u001b[32m━━━━━━━━━━━━━━━━━━━━\u001b[0m\u001b[37m\u001b[0m \u001b[1m0s\u001b[0m 3s/step - loss: 7.9252\n",
            "Epoch 1: loss improved from None to 7.21324, saving model to ./tmp/checkpoints/model_epoch_01.weights.h5\n",
            "\u001b[1m22/22\u001b[0m \u001b[32m━━━━━━━━━━━━━━━━━━━━\u001b[0m\u001b[37m\u001b[0m \u001b[1m67s\u001b[0m 3s/step - loss: 7.2132\n",
            "Epoch 2/80\n",
            "\u001b[1m22/22\u001b[0m \u001b[32m━━━━━━━━━━━━━━━━━━━━\u001b[0m\u001b[37m\u001b[0m \u001b[1m0s\u001b[0m 3s/step - loss: 6.4700\n",
            "Epoch 2: loss improved from 7.21324 to 6.47345, saving model to ./tmp/checkpoints/model_epoch_02.weights.h5\n",
            "\u001b[1m22/22\u001b[0m \u001b[32m━━━━━━━━━━━━━━━━━━━━\u001b[0m\u001b[37m\u001b[0m \u001b[1m73s\u001b[0m 3s/step - loss: 6.4735\n",
            "Epoch 3/80\n",
            "\u001b[1m22/22\u001b[0m \u001b[32m━━━━━━━━━━━━━━━━━━━━\u001b[0m\u001b[37m\u001b[0m \u001b[1m0s\u001b[0m 3s/step - loss: 6.3639\n",
            "Epoch 3: loss improved from 6.47345 to 6.35930, saving model to ./tmp/checkpoints/model_epoch_03.weights.h5\n",
            "\u001b[1m22/22\u001b[0m \u001b[32m━━━━━━━━━━━━━━━━━━━━\u001b[0m\u001b[37m\u001b[0m \u001b[1m65s\u001b[0m 3s/step - loss: 6.3593\n",
            "Epoch 4/80\n",
            "\u001b[1m22/22\u001b[0m \u001b[32m━━━━━━━━━━━━━━━━━━━━\u001b[0m\u001b[37m\u001b[0m \u001b[1m0s\u001b[0m 3s/step - loss: 6.1881\n",
            "Epoch 4: loss improved from 6.35930 to 6.13763, saving model to ./tmp/checkpoints/model_epoch_04.weights.h5\n",
            "\u001b[1m22/22\u001b[0m \u001b[32m━━━━━━━━━━━━━━━━━━━━\u001b[0m\u001b[37m\u001b[0m \u001b[1m59s\u001b[0m 3s/step - loss: 6.1376\n",
            "Epoch 5/80\n",
            "\u001b[1m22/22\u001b[0m \u001b[32m━━━━━━━━━━━━━━━━━━━━\u001b[0m\u001b[37m\u001b[0m \u001b[1m0s\u001b[0m 3s/step - loss: 5.9268\n",
            "Epoch 5: loss improved from 6.13763 to 5.88269, saving model to ./tmp/checkpoints/model_epoch_05.weights.h5\n",
            "\u001b[1m22/22\u001b[0m \u001b[32m━━━━━━━━━━━━━━━━━━━━\u001b[0m\u001b[37m\u001b[0m \u001b[1m73s\u001b[0m 3s/step - loss: 5.8827\n",
            "Epoch 6/80\n",
            "\u001b[1m22/22\u001b[0m \u001b[32m━━━━━━━━━━━━━━━━━━━━\u001b[0m\u001b[37m\u001b[0m \u001b[1m0s\u001b[0m 3s/step - loss: 5.6836\n",
            "Epoch 6: loss improved from 5.88269 to 5.65060, saving model to ./tmp/checkpoints/model_epoch_06.weights.h5\n",
            "\u001b[1m22/22\u001b[0m \u001b[32m━━━━━━━━━━━━━━━━━━━━\u001b[0m\u001b[37m\u001b[0m \u001b[1m67s\u001b[0m 3s/step - loss: 5.6506\n",
            "Epoch 7/80\n",
            "\u001b[1m22/22\u001b[0m \u001b[32m━━━━━━━━━━━━━━━━━━━━\u001b[0m\u001b[37m\u001b[0m \u001b[1m0s\u001b[0m 3s/step - loss: 5.4719\n",
            "Epoch 7: loss improved from 5.65060 to 5.45705, saving model to ./tmp/checkpoints/model_epoch_07.weights.h5\n",
            "\u001b[1m22/22\u001b[0m \u001b[32m━━━━━━━━━━━━━━━━━━━━\u001b[0m\u001b[37m\u001b[0m \u001b[1m67s\u001b[0m 3s/step - loss: 5.4570\n",
            "Epoch 8/80\n",
            "\u001b[1m22/22\u001b[0m \u001b[32m━━━━━━━━━━━━━━━━━━━━\u001b[0m\u001b[37m\u001b[0m \u001b[1m0s\u001b[0m 4s/step - loss: 5.3019\n",
            "Epoch 8: loss improved from 5.45705 to 5.27924, saving model to ./tmp/checkpoints/model_epoch_08.weights.h5\n",
            "\u001b[1m22/22\u001b[0m \u001b[32m━━━━━━━━━━━━━━━━━━━━\u001b[0m\u001b[37m\u001b[0m \u001b[1m84s\u001b[0m 4s/step - loss: 5.2792\n",
            "Epoch 9/80\n",
            "\u001b[1m22/22\u001b[0m \u001b[32m━━━━━━━━━━━━━━━━━━━━\u001b[0m\u001b[37m\u001b[0m \u001b[1m0s\u001b[0m 3s/step - loss: 5.1240\n",
            "Epoch 9: loss improved from 5.27924 to 5.12831, saving model to ./tmp/checkpoints/model_epoch_09.weights.h5\n",
            "\u001b[1m22/22\u001b[0m \u001b[32m━━━━━━━━━━━━━━━━━━━━\u001b[0m\u001b[37m\u001b[0m \u001b[1m71s\u001b[0m 3s/step - loss: 5.1283\n",
            "Epoch 10/80\n",
            "\u001b[1m22/22\u001b[0m \u001b[32m━━━━━━━━━━━━━━━━━━━━\u001b[0m\u001b[37m\u001b[0m \u001b[1m0s\u001b[0m 3s/step - loss: 5.0296\n",
            "Epoch 10: loss improved from 5.12831 to 5.00275, saving model to ./tmp/checkpoints/model_epoch_10.weights.h5\n",
            "\u001b[1m22/22\u001b[0m \u001b[32m━━━━━━━━━━━━━━━━━━━━\u001b[0m\u001b[37m\u001b[0m \u001b[1m66s\u001b[0m 3s/step - loss: 5.0027\n",
            "Epoch 11/80\n",
            "\u001b[1m22/22\u001b[0m \u001b[32m━━━━━━━━━━━━━━━━━━━━\u001b[0m\u001b[37m\u001b[0m \u001b[1m0s\u001b[0m 3s/step - loss: 4.8958\n",
            "Epoch 11: loss improved from 5.00275 to 4.89891, saving model to ./tmp/checkpoints/model_epoch_11.weights.h5\n",
            "\u001b[1m22/22\u001b[0m \u001b[32m━━━━━━━━━━━━━━━━━━━━\u001b[0m\u001b[37m\u001b[0m \u001b[1m70s\u001b[0m 3s/step - loss: 4.8989\n",
            "Epoch 12/80\n",
            "\u001b[1m22/22\u001b[0m \u001b[32m━━━━━━━━━━━━━━━━━━━━\u001b[0m\u001b[37m\u001b[0m \u001b[1m0s\u001b[0m 3s/step - loss: 4.7910\n",
            "Epoch 12: loss improved from 4.89891 to 4.80142, saving model to ./tmp/checkpoints/model_epoch_12.weights.h5\n",
            "\u001b[1m22/22\u001b[0m \u001b[32m━━━━━━━━━━━━━━━━━━━━\u001b[0m\u001b[37m\u001b[0m \u001b[1m70s\u001b[0m 3s/step - loss: 4.8014\n",
            "Epoch 13/80\n",
            "\u001b[1m22/22\u001b[0m \u001b[32m━━━━━━━━━━━━━━━━━━━━\u001b[0m\u001b[37m\u001b[0m \u001b[1m0s\u001b[0m 3s/step - loss: 4.7171\n",
            "Epoch 13: loss improved from 4.80142 to 4.71408, saving model to ./tmp/checkpoints/model_epoch_13.weights.h5\n",
            "\u001b[1m22/22\u001b[0m \u001b[32m━━━━━━━━━━━━━━━━━━━━\u001b[0m\u001b[37m\u001b[0m \u001b[1m67s\u001b[0m 3s/step - loss: 4.7141\n",
            "Epoch 14/80\n",
            "\u001b[1m22/22\u001b[0m \u001b[32m━━━━━━━━━━━━━━━━━━━━\u001b[0m\u001b[37m\u001b[0m \u001b[1m0s\u001b[0m 3s/step - loss: 4.6369\n",
            "Epoch 14: loss improved from 4.71408 to 4.63505, saving model to ./tmp/checkpoints/model_epoch_14.weights.h5\n",
            "\u001b[1m22/22\u001b[0m \u001b[32m━━━━━━━━━━━━━━━━━━━━\u001b[0m\u001b[37m\u001b[0m \u001b[1m68s\u001b[0m 3s/step - loss: 4.6351\n",
            "Epoch 15/80\n",
            "\u001b[1m22/22\u001b[0m \u001b[32m━━━━━━━━━━━━━━━━━━━━\u001b[0m\u001b[37m\u001b[0m \u001b[1m0s\u001b[0m 3s/step - loss: 4.5413\n",
            "Epoch 15: loss improved from 4.63505 to 4.55738, saving model to ./tmp/checkpoints/model_epoch_15.weights.h5\n",
            "\u001b[1m22/22\u001b[0m \u001b[32m━━━━━━━━━━━━━━━━━━━━\u001b[0m\u001b[37m\u001b[0m \u001b[1m73s\u001b[0m 3s/step - loss: 4.5574\n",
            "Epoch 16/80\n",
            "\u001b[1m22/22\u001b[0m \u001b[32m━━━━━━━━━━━━━━━━━━━━\u001b[0m\u001b[37m\u001b[0m \u001b[1m0s\u001b[0m 3s/step - loss: 4.4523\n",
            "Epoch 16: loss improved from 4.55738 to 4.48116, saving model to ./tmp/checkpoints/model_epoch_16.weights.h5\n",
            "\u001b[1m22/22\u001b[0m \u001b[32m━━━━━━━━━━━━━━━━━━━━\u001b[0m\u001b[37m\u001b[0m \u001b[1m72s\u001b[0m 3s/step - loss: 4.4812\n",
            "Epoch 17/80\n",
            "\u001b[1m22/22\u001b[0m \u001b[32m━━━━━━━━━━━━━━━━━━━━\u001b[0m\u001b[37m\u001b[0m \u001b[1m0s\u001b[0m 3s/step - loss: 4.3947\n",
            "Epoch 17: loss improved from 4.48116 to 4.41599, saving model to ./tmp/checkpoints/model_epoch_17.weights.h5\n",
            "\u001b[1m22/22\u001b[0m \u001b[32m━━━━━━━━━━━━━━━━━━━━\u001b[0m\u001b[37m\u001b[0m \u001b[1m73s\u001b[0m 3s/step - loss: 4.4160\n",
            "Epoch 18/80\n",
            "\u001b[1m22/22\u001b[0m \u001b[32m━━━━━━━━━━━━━━━━━━━━\u001b[0m\u001b[37m\u001b[0m \u001b[1m0s\u001b[0m 3s/step - loss: 4.3320\n",
            "Epoch 18: loss improved from 4.41599 to 4.34455, saving model to ./tmp/checkpoints/model_epoch_18.weights.h5\n",
            "\u001b[1m22/22\u001b[0m \u001b[32m━━━━━━━━━━━━━━━━━━━━\u001b[0m\u001b[37m\u001b[0m \u001b[1m75s\u001b[0m 3s/step - loss: 4.3446\n",
            "Epoch 19/80\n",
            "\u001b[1m22/22\u001b[0m \u001b[32m━━━━━━━━━━━━━━━━━━━━\u001b[0m\u001b[37m\u001b[0m \u001b[1m0s\u001b[0m 3s/step - loss: 4.2569\n",
            "Epoch 19: loss improved from 4.34455 to 4.27417, saving model to ./tmp/checkpoints/model_epoch_19.weights.h5\n",
            "\u001b[1m22/22\u001b[0m \u001b[32m━━━━━━━━━━━━━━━━━━━━\u001b[0m\u001b[37m\u001b[0m \u001b[1m77s\u001b[0m 4s/step - loss: 4.2742\n",
            "Epoch 20/80\n",
            "\u001b[1m22/22\u001b[0m \u001b[32m━━━━━━━━━━━━━━━━━━━━\u001b[0m\u001b[37m\u001b[0m \u001b[1m0s\u001b[0m 3s/step - loss: 4.1917\n",
            "Epoch 20: loss improved from 4.27417 to 4.20853, saving model to ./tmp/checkpoints/model_epoch_20.weights.h5\n",
            "\u001b[1m22/22\u001b[0m \u001b[32m━━━━━━━━━━━━━━━━━━━━\u001b[0m\u001b[37m\u001b[0m \u001b[1m76s\u001b[0m 3s/step - loss: 4.2085\n",
            "Epoch 21/80\n",
            "\u001b[1m22/22\u001b[0m \u001b[32m━━━━━━━━━━━━━━━━━━━━\u001b[0m\u001b[37m\u001b[0m \u001b[1m0s\u001b[0m 3s/step - loss: 4.1235\n",
            "Epoch 21: loss improved from 4.20853 to 4.15060, saving model to ./tmp/checkpoints/model_epoch_21.weights.h5\n",
            "\u001b[1m22/22\u001b[0m \u001b[32m━━━━━━━━━━━━━━━━━━━━\u001b[0m\u001b[37m\u001b[0m \u001b[1m75s\u001b[0m 3s/step - loss: 4.1506\n",
            "Epoch 22/80\n",
            "\u001b[1m22/22\u001b[0m \u001b[32m━━━━━━━━━━━━━━━━━━━━\u001b[0m\u001b[37m\u001b[0m \u001b[1m0s\u001b[0m 3s/step - loss: 4.0913\n",
            "Epoch 22: loss improved from 4.15060 to 4.09085, saving model to ./tmp/checkpoints/model_epoch_22.weights.h5\n",
            "\u001b[1m22/22\u001b[0m \u001b[32m━━━━━━━━━━━━━━━━━━━━\u001b[0m\u001b[37m\u001b[0m \u001b[1m76s\u001b[0m 3s/step - loss: 4.0909\n",
            "Epoch 23/80\n",
            "\u001b[1m22/22\u001b[0m \u001b[32m━━━━━━━━━━━━━━━━━━━━\u001b[0m\u001b[37m\u001b[0m \u001b[1m0s\u001b[0m 3s/step - loss: 4.0163\n",
            "Epoch 23: loss improved from 4.09085 to 4.02950, saving model to ./tmp/checkpoints/model_epoch_23.weights.h5\n",
            "\u001b[1m22/22\u001b[0m \u001b[32m━━━━━━━━━━━━━━━━━━━━\u001b[0m\u001b[37m\u001b[0m \u001b[1m70s\u001b[0m 3s/step - loss: 4.0295\n",
            "Epoch 24/80\n",
            "\u001b[1m22/22\u001b[0m \u001b[32m━━━━━━━━━━━━━━━━━━━━\u001b[0m\u001b[37m\u001b[0m \u001b[1m0s\u001b[0m 3s/step - loss: 3.9549\n",
            "Epoch 24: loss improved from 4.02950 to 3.97380, saving model to ./tmp/checkpoints/model_epoch_24.weights.h5\n",
            "\u001b[1m22/22\u001b[0m \u001b[32m━━━━━━━━━━━━━━━━━━━━\u001b[0m\u001b[37m\u001b[0m \u001b[1m63s\u001b[0m 3s/step - loss: 3.9738\n",
            "Epoch 25/80\n",
            "\u001b[1m22/22\u001b[0m \u001b[32m━━━━━━━━━━━━━━━━━━━━\u001b[0m\u001b[37m\u001b[0m \u001b[1m0s\u001b[0m 3s/step - loss: 3.9008\n",
            "Epoch 25: loss improved from 3.97380 to 3.91544, saving model to ./tmp/checkpoints/model_epoch_25.weights.h5\n",
            "\u001b[1m22/22\u001b[0m \u001b[32m━━━━━━━━━━━━━━━━━━━━\u001b[0m\u001b[37m\u001b[0m \u001b[1m63s\u001b[0m 3s/step - loss: 3.9154\n",
            "Epoch 26/80\n",
            "\u001b[1m22/22\u001b[0m \u001b[32m━━━━━━━━━━━━━━━━━━━━\u001b[0m\u001b[37m\u001b[0m \u001b[1m0s\u001b[0m 3s/step - loss: 3.8328\n",
            "Epoch 26: loss improved from 3.91544 to 3.85637, saving model to ./tmp/checkpoints/model_epoch_26.weights.h5\n",
            "\u001b[1m22/22\u001b[0m \u001b[32m━━━━━━━━━━━━━━━━━━━━\u001b[0m\u001b[37m\u001b[0m \u001b[1m64s\u001b[0m 3s/step - loss: 3.8564\n",
            "Epoch 27/80\n",
            "\u001b[1m22/22\u001b[0m \u001b[32m━━━━━━━━━━━━━━━━━━━━\u001b[0m\u001b[37m\u001b[0m \u001b[1m0s\u001b[0m 3s/step - loss: 3.7722\n",
            "Epoch 27: loss improved from 3.85637 to 3.80419, saving model to ./tmp/checkpoints/model_epoch_27.weights.h5\n",
            "\u001b[1m22/22\u001b[0m \u001b[32m━━━━━━━━━━━━━━━━━━━━\u001b[0m\u001b[37m\u001b[0m \u001b[1m64s\u001b[0m 3s/step - loss: 3.8042\n",
            "Epoch 28/80\n",
            "\u001b[1m22/22\u001b[0m \u001b[32m━━━━━━━━━━━━━━━━━━━━\u001b[0m\u001b[37m\u001b[0m \u001b[1m0s\u001b[0m 3s/step - loss: 3.7321\n",
            "Epoch 28: loss improved from 3.80419 to 3.75215, saving model to ./tmp/checkpoints/model_epoch_28.weights.h5\n",
            "\u001b[1m22/22\u001b[0m \u001b[32m━━━━━━━━━━━━━━━━━━━━\u001b[0m\u001b[37m\u001b[0m \u001b[1m64s\u001b[0m 3s/step - loss: 3.7522\n",
            "Epoch 29/80\n",
            "\u001b[1m22/22\u001b[0m \u001b[32m━━━━━━━━━━━━━━━━━━━━\u001b[0m\u001b[37m\u001b[0m \u001b[1m0s\u001b[0m 3s/step - loss: 3.6690\n",
            "Epoch 29: loss improved from 3.75215 to 3.69935, saving model to ./tmp/checkpoints/model_epoch_29.weights.h5\n",
            "\u001b[1m22/22\u001b[0m \u001b[32m━━━━━━━━━━━━━━━━━━━━\u001b[0m\u001b[37m\u001b[0m \u001b[1m64s\u001b[0m 3s/step - loss: 3.6994\n",
            "Epoch 30/80\n",
            "\u001b[1m22/22\u001b[0m \u001b[32m━━━━━━━━━━━━━━━━━━━━\u001b[0m\u001b[37m\u001b[0m \u001b[1m0s\u001b[0m 3s/step - loss: 3.6186\n",
            "Epoch 30: loss improved from 3.69935 to 3.64791, saving model to ./tmp/checkpoints/model_epoch_30.weights.h5\n",
            "\u001b[1m22/22\u001b[0m \u001b[32m━━━━━━━━━━━━━━━━━━━━\u001b[0m\u001b[37m\u001b[0m \u001b[1m65s\u001b[0m 3s/step - loss: 3.6479\n",
            "Epoch 31/80\n",
            "\u001b[1m22/22\u001b[0m \u001b[32m━━━━━━━━━━━━━━━━━━━━\u001b[0m\u001b[37m\u001b[0m \u001b[1m0s\u001b[0m 3s/step - loss: 3.5831\n",
            "Epoch 31: loss improved from 3.64791 to 3.59868, saving model to ./tmp/checkpoints/model_epoch_31.weights.h5\n",
            "\u001b[1m22/22\u001b[0m \u001b[32m━━━━━━━━━━━━━━━━━━━━\u001b[0m\u001b[37m\u001b[0m \u001b[1m65s\u001b[0m 3s/step - loss: 3.5987\n",
            "Epoch 32/80\n",
            "\u001b[1m22/22\u001b[0m \u001b[32m━━━━━━━━━━━━━━━━━━━━\u001b[0m\u001b[37m\u001b[0m \u001b[1m0s\u001b[0m 3s/step - loss: 3.5367\n",
            "Epoch 32: loss improved from 3.59868 to 3.54607, saving model to ./tmp/checkpoints/model_epoch_32.weights.h5\n",
            "\u001b[1m22/22\u001b[0m \u001b[32m━━━━━━━━━━━━━━━━━━━━\u001b[0m\u001b[37m\u001b[0m \u001b[1m65s\u001b[0m 3s/step - loss: 3.5461\n",
            "Epoch 33/80\n",
            "\u001b[1m22/22\u001b[0m \u001b[32m━━━━━━━━━━━━━━━━━━━━\u001b[0m\u001b[37m\u001b[0m \u001b[1m0s\u001b[0m 3s/step - loss: 3.4696\n",
            "Epoch 33: loss improved from 3.54607 to 3.50003, saving model to ./tmp/checkpoints/model_epoch_33.weights.h5\n",
            "\u001b[1m22/22\u001b[0m \u001b[32m━━━━━━━━━━━━━━━━━━━━\u001b[0m\u001b[37m\u001b[0m \u001b[1m65s\u001b[0m 3s/step - loss: 3.5000\n",
            "Epoch 34/80\n",
            "\u001b[1m22/22\u001b[0m \u001b[32m━━━━━━━━━━━━━━━━━━━━\u001b[0m\u001b[37m\u001b[0m \u001b[1m0s\u001b[0m 3s/step - loss: 3.4219\n",
            "Epoch 34: loss improved from 3.50003 to 3.45044, saving model to ./tmp/checkpoints/model_epoch_34.weights.h5\n",
            "\u001b[1m22/22\u001b[0m \u001b[32m━━━━━━━━━━━━━━━━━━━━\u001b[0m\u001b[37m\u001b[0m \u001b[1m65s\u001b[0m 3s/step - loss: 3.4504\n",
            "Epoch 35/80\n",
            "\u001b[1m22/22\u001b[0m \u001b[32m━━━━━━━━━━━━━━━━━━━━\u001b[0m\u001b[37m\u001b[0m \u001b[1m0s\u001b[0m 3s/step - loss: 3.3762\n",
            "Epoch 35: loss improved from 3.45044 to 3.40020, saving model to ./tmp/checkpoints/model_epoch_35.weights.h5\n",
            "\u001b[1m22/22\u001b[0m \u001b[32m━━━━━━━━━━━━━━━━━━━━\u001b[0m\u001b[37m\u001b[0m \u001b[1m65s\u001b[0m 3s/step - loss: 3.4002\n",
            "Epoch 36/80\n",
            "\u001b[1m22/22\u001b[0m \u001b[32m━━━━━━━━━━━━━━━━━━━━\u001b[0m\u001b[37m\u001b[0m \u001b[1m0s\u001b[0m 3s/step - loss: 3.3272\n",
            "Epoch 36: loss improved from 3.40020 to 3.35749, saving model to ./tmp/checkpoints/model_epoch_36.weights.h5\n",
            "\u001b[1m22/22\u001b[0m \u001b[32m━━━━━━━━━━━━━━━━━━━━\u001b[0m\u001b[37m\u001b[0m \u001b[1m65s\u001b[0m 3s/step - loss: 3.3575\n",
            "Epoch 37/80\n",
            "\u001b[1m22/22\u001b[0m \u001b[32m━━━━━━━━━━━━━━━━━━━━\u001b[0m\u001b[37m\u001b[0m \u001b[1m0s\u001b[0m 3s/step - loss: 3.2813\n",
            "Epoch 37: loss improved from 3.35749 to 3.31191, saving model to ./tmp/checkpoints/model_epoch_37.weights.h5\n",
            "\u001b[1m22/22\u001b[0m \u001b[32m━━━━━━━━━━━━━━━━━━━━\u001b[0m\u001b[37m\u001b[0m \u001b[1m65s\u001b[0m 3s/step - loss: 3.3119\n",
            "Epoch 38/80\n",
            "\u001b[1m22/22\u001b[0m \u001b[32m━━━━━━━━━━━━━━━━━━━━\u001b[0m\u001b[37m\u001b[0m \u001b[1m0s\u001b[0m 3s/step - loss: 3.2414\n",
            "Epoch 38: loss improved from 3.31191 to 3.26374, saving model to ./tmp/checkpoints/model_epoch_38.weights.h5\n",
            "\u001b[1m22/22\u001b[0m \u001b[32m━━━━━━━━━━━━━━━━━━━━\u001b[0m\u001b[37m\u001b[0m \u001b[1m65s\u001b[0m 3s/step - loss: 3.2637\n",
            "Epoch 39/80\n",
            "\u001b[1m22/22\u001b[0m \u001b[32m━━━━━━━━━━━━━━━━━━━━\u001b[0m\u001b[37m\u001b[0m \u001b[1m0s\u001b[0m 3s/step - loss: 3.1919\n",
            "Epoch 39: loss improved from 3.26374 to 3.21571, saving model to ./tmp/checkpoints/model_epoch_39.weights.h5\n",
            "\u001b[1m22/22\u001b[0m \u001b[32m━━━━━━━━━━━━━━━━━━━━\u001b[0m\u001b[37m\u001b[0m \u001b[1m65s\u001b[0m 3s/step - loss: 3.2157\n",
            "Epoch 40/80\n",
            "\u001b[1m22/22\u001b[0m \u001b[32m━━━━━━━━━━━━━━━━━━━━\u001b[0m\u001b[37m\u001b[0m \u001b[1m0s\u001b[0m 3s/step - loss: 3.1447\n",
            "Epoch 40: loss improved from 3.21571 to 3.17244, saving model to ./tmp/checkpoints/model_epoch_40.weights.h5\n",
            "\u001b[1m22/22\u001b[0m \u001b[32m━━━━━━━━━━━━━━━━━━━━\u001b[0m\u001b[37m\u001b[0m \u001b[1m65s\u001b[0m 3s/step - loss: 3.1724\n",
            "Epoch 41/80\n",
            "\u001b[1m22/22\u001b[0m \u001b[32m━━━━━━━━━━━━━━━━━━━━\u001b[0m\u001b[37m\u001b[0m \u001b[1m0s\u001b[0m 3s/step - loss: 3.1008\n",
            "Epoch 41: loss improved from 3.17244 to 3.12927, saving model to ./tmp/checkpoints/model_epoch_41.weights.h5\n",
            "\u001b[1m22/22\u001b[0m \u001b[32m━━━━━━━━━━━━━━━━━━━━\u001b[0m\u001b[37m\u001b[0m \u001b[1m65s\u001b[0m 3s/step - loss: 3.1293\n",
            "Epoch 42/80\n",
            "\u001b[1m22/22\u001b[0m \u001b[32m━━━━━━━━━━━━━━━━━━━━\u001b[0m\u001b[37m\u001b[0m \u001b[1m0s\u001b[0m 3s/step - loss: 3.0651\n",
            "Epoch 42: loss improved from 3.12927 to 3.08606, saving model to ./tmp/checkpoints/model_epoch_42.weights.h5\n",
            "\u001b[1m22/22\u001b[0m \u001b[32m━━━━━━━━━━━━━━━━━━━━\u001b[0m\u001b[37m\u001b[0m \u001b[1m66s\u001b[0m 3s/step - loss: 3.0861\n",
            "Epoch 43/80\n",
            "\u001b[1m22/22\u001b[0m \u001b[32m━━━━━━━━━━━━━━━━━━━━\u001b[0m\u001b[37m\u001b[0m \u001b[1m0s\u001b[0m 3s/step - loss: 3.0133\n",
            "Epoch 43: loss improved from 3.08606 to 3.04420, saving model to ./tmp/checkpoints/model_epoch_43.weights.h5\n",
            "\u001b[1m22/22\u001b[0m \u001b[32m━━━━━━━━━━━━━━━━━━━━\u001b[0m\u001b[37m\u001b[0m \u001b[1m65s\u001b[0m 3s/step - loss: 3.0442\n",
            "Epoch 44/80\n",
            "\u001b[1m22/22\u001b[0m \u001b[32m━━━━━━━━━━━━━━━━━━━━\u001b[0m\u001b[37m\u001b[0m \u001b[1m0s\u001b[0m 3s/step - loss: 2.9877\n",
            "Epoch 44: loss improved from 3.04420 to 3.00433, saving model to ./tmp/checkpoints/model_epoch_44.weights.h5\n",
            "\u001b[1m22/22\u001b[0m \u001b[32m━━━━━━━━━━━━━━━━━━━━\u001b[0m\u001b[37m\u001b[0m \u001b[1m65s\u001b[0m 3s/step - loss: 3.0043\n",
            "Epoch 45/80\n",
            "\u001b[1m22/22\u001b[0m \u001b[32m━━━━━━━━━━━━━━━━━━━━\u001b[0m\u001b[37m\u001b[0m \u001b[1m0s\u001b[0m 3s/step - loss: 2.9262\n",
            "Epoch 45: loss improved from 3.00433 to 2.95959, saving model to ./tmp/checkpoints/model_epoch_45.weights.h5\n",
            "\u001b[1m22/22\u001b[0m \u001b[32m━━━━━━━━━━━━━━━━━━━━\u001b[0m\u001b[37m\u001b[0m \u001b[1m65s\u001b[0m 3s/step - loss: 2.9596\n",
            "Epoch 46/80\n",
            "\u001b[1m22/22\u001b[0m \u001b[32m━━━━━━━━━━━━━━━━━━━━\u001b[0m\u001b[37m\u001b[0m \u001b[1m0s\u001b[0m 3s/step - loss: 2.9052\n",
            "Epoch 46: loss improved from 2.95959 to 2.92090, saving model to ./tmp/checkpoints/model_epoch_46.weights.h5\n",
            "\u001b[1m22/22\u001b[0m \u001b[32m━━━━━━━━━━━━━━━━━━━━\u001b[0m\u001b[37m\u001b[0m \u001b[1m65s\u001b[0m 3s/step - loss: 2.9209\n",
            "Epoch 47/80\n",
            "\u001b[1m22/22\u001b[0m \u001b[32m━━━━━━━━━━━━━━━━━━━━\u001b[0m\u001b[37m\u001b[0m \u001b[1m0s\u001b[0m 3s/step - loss: 2.8588\n",
            "Epoch 47: loss improved from 2.92090 to 2.88284, saving model to ./tmp/checkpoints/model_epoch_47.weights.h5\n",
            "\u001b[1m22/22\u001b[0m \u001b[32m━━━━━━━━━━━━━━━━━━━━\u001b[0m\u001b[37m\u001b[0m \u001b[1m65s\u001b[0m 3s/step - loss: 2.8828\n",
            "Epoch 48/80\n",
            "\u001b[1m22/22\u001b[0m \u001b[32m━━━━━━━━━━━━━━━━━━━━\u001b[0m\u001b[37m\u001b[0m \u001b[1m0s\u001b[0m 3s/step - loss: 2.8232\n",
            "Epoch 48: loss improved from 2.88284 to 2.84220, saving model to ./tmp/checkpoints/model_epoch_48.weights.h5\n",
            "\u001b[1m22/22\u001b[0m \u001b[32m━━━━━━━━━━━━━━━━━━━━\u001b[0m\u001b[37m\u001b[0m \u001b[1m65s\u001b[0m 3s/step - loss: 2.8422\n",
            "Epoch 49/80\n",
            "\u001b[1m22/22\u001b[0m \u001b[32m━━━━━━━━━━━━━━━━━━━━\u001b[0m\u001b[37m\u001b[0m \u001b[1m0s\u001b[0m 3s/step - loss: 2.7734\n",
            "Epoch 49: loss improved from 2.84220 to 2.79897, saving model to ./tmp/checkpoints/model_epoch_49.weights.h5\n",
            "\u001b[1m22/22\u001b[0m \u001b[32m━━━━━━━━━━━━━━━━━━━━\u001b[0m\u001b[37m\u001b[0m \u001b[1m65s\u001b[0m 3s/step - loss: 2.7990\n",
            "Epoch 50/80\n",
            "\u001b[1m22/22\u001b[0m \u001b[32m━━━━━━━━━━━━━━━━━━━━\u001b[0m\u001b[37m\u001b[0m \u001b[1m0s\u001b[0m 3s/step - loss: 2.7360\n",
            "Epoch 50: loss improved from 2.79897 to 2.76401, saving model to ./tmp/checkpoints/model_epoch_50.weights.h5\n",
            "\u001b[1m22/22\u001b[0m \u001b[32m━━━━━━━━━━━━━━━━━━━━\u001b[0m\u001b[37m\u001b[0m \u001b[1m65s\u001b[0m 3s/step - loss: 2.7640\n",
            "Epoch 51/80\n",
            "\u001b[1m22/22\u001b[0m \u001b[32m━━━━━━━━━━━━━━━━━━━━\u001b[0m\u001b[37m\u001b[0m \u001b[1m0s\u001b[0m 3s/step - loss: 2.7116\n",
            "Epoch 51: loss improved from 2.76401 to 2.72553, saving model to ./tmp/checkpoints/model_epoch_51.weights.h5\n",
            "\u001b[1m22/22\u001b[0m \u001b[32m━━━━━━━━━━━━━━━━━━━━\u001b[0m\u001b[37m\u001b[0m \u001b[1m65s\u001b[0m 3s/step - loss: 2.7255\n",
            "Epoch 52/80\n",
            "\u001b[1m22/22\u001b[0m \u001b[32m━━━━━━━━━━━━━━━━━━━━\u001b[0m\u001b[37m\u001b[0m \u001b[1m0s\u001b[0m 3s/step - loss: 2.6579\n",
            "Epoch 52: loss improved from 2.72553 to 2.68930, saving model to ./tmp/checkpoints/model_epoch_52.weights.h5\n",
            "\u001b[1m22/22\u001b[0m \u001b[32m━━━━━━━━━━━━━━━━━━━━\u001b[0m\u001b[37m\u001b[0m \u001b[1m65s\u001b[0m 3s/step - loss: 2.6893\n",
            "Epoch 53/80\n",
            "\u001b[1m22/22\u001b[0m \u001b[32m━━━━━━━━━━━━━━━━━━━━\u001b[0m\u001b[37m\u001b[0m \u001b[1m0s\u001b[0m 3s/step - loss: 2.6181\n",
            "Epoch 53: loss improved from 2.68930 to 2.64983, saving model to ./tmp/checkpoints/model_epoch_53.weights.h5\n",
            "\u001b[1m22/22\u001b[0m \u001b[32m━━━━━━━━━━━━━━━━━━━━\u001b[0m\u001b[37m\u001b[0m \u001b[1m65s\u001b[0m 3s/step - loss: 2.6498\n",
            "Epoch 54/80\n",
            "\u001b[1m22/22\u001b[0m \u001b[32m━━━━━━━━━━━━━━━━━━━━\u001b[0m\u001b[37m\u001b[0m \u001b[1m0s\u001b[0m 3s/step - loss: 2.5830\n",
            "Epoch 54: loss improved from 2.64983 to 2.61639, saving model to ./tmp/checkpoints/model_epoch_54.weights.h5\n",
            "\u001b[1m22/22\u001b[0m \u001b[32m━━━━━━━━━━━━━━━━━━━━\u001b[0m\u001b[37m\u001b[0m \u001b[1m65s\u001b[0m 3s/step - loss: 2.6164\n",
            "Epoch 55/80\n",
            "\u001b[1m22/22\u001b[0m \u001b[32m━━━━━━━━━━━━━━━━━━━━\u001b[0m\u001b[37m\u001b[0m \u001b[1m0s\u001b[0m 3s/step - loss: 2.5662\n",
            "Epoch 55: loss improved from 2.61639 to 2.57891, saving model to ./tmp/checkpoints/model_epoch_55.weights.h5\n",
            "\u001b[1m22/22\u001b[0m \u001b[32m━━━━━━━━━━━━━━━━━━━━\u001b[0m\u001b[37m\u001b[0m \u001b[1m65s\u001b[0m 3s/step - loss: 2.5789\n",
            "Epoch 56/80\n",
            "\u001b[1m22/22\u001b[0m \u001b[32m━━━━━━━━━━━━━━━━━━━━\u001b[0m\u001b[37m\u001b[0m \u001b[1m0s\u001b[0m 3s/step - loss: 2.5300\n",
            "Epoch 56: loss improved from 2.57891 to 2.54609, saving model to ./tmp/checkpoints/model_epoch_56.weights.h5\n",
            "\u001b[1m22/22\u001b[0m \u001b[32m━━━━━━━━━━━━━━━━━━━━\u001b[0m\u001b[37m\u001b[0m \u001b[1m65s\u001b[0m 3s/step - loss: 2.5461\n",
            "Epoch 57/80\n",
            "\u001b[1m22/22\u001b[0m \u001b[32m━━━━━━━━━━━━━━━━━━━━\u001b[0m\u001b[37m\u001b[0m \u001b[1m0s\u001b[0m 3s/step - loss: 2.4872\n",
            "Epoch 57: loss improved from 2.54609 to 2.51108, saving model to ./tmp/checkpoints/model_epoch_57.weights.h5\n",
            "\u001b[1m22/22\u001b[0m \u001b[32m━━━━━━━━━━━━━━━━━━━━\u001b[0m\u001b[37m\u001b[0m \u001b[1m65s\u001b[0m 3s/step - loss: 2.5111\n",
            "Epoch 58/80\n",
            "\u001b[1m22/22\u001b[0m \u001b[32m━━━━━━━━━━━━━━━━━━━━\u001b[0m\u001b[37m\u001b[0m \u001b[1m0s\u001b[0m 3s/step - loss: 2.4592\n",
            "Epoch 58: loss improved from 2.51108 to 2.47794, saving model to ./tmp/checkpoints/model_epoch_58.weights.h5\n",
            "\u001b[1m22/22\u001b[0m \u001b[32m━━━━━━━━━━━━━━━━━━━━\u001b[0m\u001b[37m\u001b[0m \u001b[1m65s\u001b[0m 3s/step - loss: 2.4779\n",
            "Epoch 59/80\n",
            "\u001b[1m22/22\u001b[0m \u001b[32m━━━━━━━━━━━━━━━━━━━━\u001b[0m\u001b[37m\u001b[0m \u001b[1m0s\u001b[0m 3s/step - loss: 2.4306\n",
            "Epoch 59: loss improved from 2.47794 to 2.44245, saving model to ./tmp/checkpoints/model_epoch_59.weights.h5\n",
            "\u001b[1m22/22\u001b[0m \u001b[32m━━━━━━━━━━━━━━━━━━━━\u001b[0m\u001b[37m\u001b[0m \u001b[1m65s\u001b[0m 3s/step - loss: 2.4424\n",
            "Epoch 60/80\n",
            "\u001b[1m22/22\u001b[0m \u001b[32m━━━━━━━━━━━━━━━━━━━━\u001b[0m\u001b[37m\u001b[0m \u001b[1m0s\u001b[0m 3s/step - loss: 2.3946\n",
            "Epoch 60: loss improved from 2.44245 to 2.41135, saving model to ./tmp/checkpoints/model_epoch_60.weights.h5\n",
            "\u001b[1m22/22\u001b[0m \u001b[32m━━━━━━━━━━━━━━━━━━━━\u001b[0m\u001b[37m\u001b[0m \u001b[1m65s\u001b[0m 3s/step - loss: 2.4114\n",
            "Epoch 61/80\n",
            "\u001b[1m22/22\u001b[0m \u001b[32m━━━━━━━━━━━━━━━━━━━━\u001b[0m\u001b[37m\u001b[0m \u001b[1m0s\u001b[0m 3s/step - loss: 2.3594\n",
            "Epoch 61: loss improved from 2.41135 to 2.37821, saving model to ./tmp/checkpoints/model_epoch_61.weights.h5\n",
            "\u001b[1m22/22\u001b[0m \u001b[32m━━━━━━━━━━━━━━━━━━━━\u001b[0m\u001b[37m\u001b[0m \u001b[1m65s\u001b[0m 3s/step - loss: 2.3782\n",
            "Epoch 62/80\n",
            "\u001b[1m22/22\u001b[0m \u001b[32m━━━━━━━━━━━━━━━━━━━━\u001b[0m\u001b[37m\u001b[0m \u001b[1m0s\u001b[0m 3s/step - loss: 2.3301\n",
            "Epoch 62: loss improved from 2.37821 to 2.34458, saving model to ./tmp/checkpoints/model_epoch_62.weights.h5\n",
            "\u001b[1m22/22\u001b[0m \u001b[32m━━━━━━━━━━━━━━━━━━━━\u001b[0m\u001b[37m\u001b[0m \u001b[1m65s\u001b[0m 3s/step - loss: 2.3446\n",
            "Epoch 63/80\n",
            "\u001b[1m22/22\u001b[0m \u001b[32m━━━━━━━━━━━━━━━━━━━━\u001b[0m\u001b[37m\u001b[0m \u001b[1m0s\u001b[0m 3s/step - loss: 2.2973\n",
            "Epoch 63: loss improved from 2.34458 to 2.31117, saving model to ./tmp/checkpoints/model_epoch_63.weights.h5\n",
            "\u001b[1m22/22\u001b[0m \u001b[32m━━━━━━━━━━━━━━━━━━━━\u001b[0m\u001b[37m\u001b[0m \u001b[1m66s\u001b[0m 3s/step - loss: 2.3112\n",
            "Epoch 64/80\n",
            "\u001b[1m22/22\u001b[0m \u001b[32m━━━━━━━━━━━━━━━━━━━━\u001b[0m\u001b[37m\u001b[0m \u001b[1m0s\u001b[0m 3s/step - loss: 2.2620\n",
            "Epoch 64: loss improved from 2.31117 to 2.28261, saving model to ./tmp/checkpoints/model_epoch_64.weights.h5\n",
            "\u001b[1m22/22\u001b[0m \u001b[32m━━━━━━━━━━━━━━━━━━━━\u001b[0m\u001b[37m\u001b[0m \u001b[1m65s\u001b[0m 3s/step - loss: 2.2826\n",
            "Epoch 65/80\n",
            "\u001b[1m22/22\u001b[0m \u001b[32m━━━━━━━━━━━━━━━━━━━━\u001b[0m\u001b[37m\u001b[0m \u001b[1m0s\u001b[0m 3s/step - loss: 2.2335\n",
            "Epoch 65: loss improved from 2.28261 to 2.25242, saving model to ./tmp/checkpoints/model_epoch_65.weights.h5\n",
            "\u001b[1m22/22\u001b[0m \u001b[32m━━━━━━━━━━━━━━━━━━━━\u001b[0m\u001b[37m\u001b[0m \u001b[1m66s\u001b[0m 3s/step - loss: 2.2524\n",
            "Epoch 66/80\n",
            "\u001b[1m22/22\u001b[0m \u001b[32m━━━━━━━━━━━━━━━━━━━━\u001b[0m\u001b[37m\u001b[0m \u001b[1m0s\u001b[0m 3s/step - loss: 2.2054\n",
            "Epoch 66: loss improved from 2.25242 to 2.22202, saving model to ./tmp/checkpoints/model_epoch_66.weights.h5\n",
            "\u001b[1m22/22\u001b[0m \u001b[32m━━━━━━━━━━━━━━━━━━━━\u001b[0m\u001b[37m\u001b[0m \u001b[1m65s\u001b[0m 3s/step - loss: 2.2220\n",
            "Epoch 67/80\n",
            "\u001b[1m22/22\u001b[0m \u001b[32m━━━━━━━━━━━━━━━━━━━━\u001b[0m\u001b[37m\u001b[0m \u001b[1m0s\u001b[0m 3s/step - loss: 2.1658\n",
            "Epoch 67: loss improved from 2.22202 to 2.19147, saving model to ./tmp/checkpoints/model_epoch_67.weights.h5\n",
            "\u001b[1m22/22\u001b[0m \u001b[32m━━━━━━━━━━━━━━━━━━━━\u001b[0m\u001b[37m\u001b[0m \u001b[1m66s\u001b[0m 3s/step - loss: 2.1915\n",
            "Epoch 68/80\n",
            "\u001b[1m22/22\u001b[0m \u001b[32m━━━━━━━━━━━━━━━━━━━━\u001b[0m\u001b[37m\u001b[0m \u001b[1m0s\u001b[0m 3s/step - loss: 2.1434\n",
            "Epoch 68: loss improved from 2.19147 to 2.16447, saving model to ./tmp/checkpoints/model_epoch_68.weights.h5\n",
            "\u001b[1m22/22\u001b[0m \u001b[32m━━━━━━━━━━━━━━━━━━━━\u001b[0m\u001b[37m\u001b[0m \u001b[1m66s\u001b[0m 3s/step - loss: 2.1645\n",
            "Epoch 69/80\n",
            "\u001b[1m22/22\u001b[0m \u001b[32m━━━━━━━━━━━━━━━━━━━━\u001b[0m\u001b[37m\u001b[0m \u001b[1m0s\u001b[0m 3s/step - loss: 2.1168\n",
            "Epoch 69: loss improved from 2.16447 to 2.13339, saving model to ./tmp/checkpoints/model_epoch_69.weights.h5\n",
            "\u001b[1m22/22\u001b[0m \u001b[32m━━━━━━━━━━━━━━━━━━━━\u001b[0m\u001b[37m\u001b[0m \u001b[1m65s\u001b[0m 3s/step - loss: 2.1334\n",
            "Epoch 70/80\n",
            "\u001b[1m22/22\u001b[0m \u001b[32m━━━━━━━━━━━━━━━━━━━━\u001b[0m\u001b[37m\u001b[0m \u001b[1m0s\u001b[0m 3s/step - loss: 2.0766\n",
            "Epoch 70: loss improved from 2.13339 to 2.10389, saving model to ./tmp/checkpoints/model_epoch_70.weights.h5\n",
            "\u001b[1m22/22\u001b[0m \u001b[32m━━━━━━━━━━━━━━━━━━━━\u001b[0m\u001b[37m\u001b[0m \u001b[1m66s\u001b[0m 3s/step - loss: 2.1039\n",
            "Epoch 71/80\n",
            "\u001b[1m22/22\u001b[0m \u001b[32m━━━━━━━━━━━━━━━━━━━━\u001b[0m\u001b[37m\u001b[0m \u001b[1m0s\u001b[0m 3s/step - loss: 2.0600\n",
            "Epoch 71: loss improved from 2.10389 to 2.07666, saving model to ./tmp/checkpoints/model_epoch_71.weights.h5\n",
            "\u001b[1m22/22\u001b[0m \u001b[32m━━━━━━━━━━━━━━━━━━━━\u001b[0m\u001b[37m\u001b[0m \u001b[1m66s\u001b[0m 3s/step - loss: 2.0767\n",
            "Epoch 72/80\n",
            "\u001b[1m22/22\u001b[0m \u001b[32m━━━━━━━━━━━━━━━━━━━━\u001b[0m\u001b[37m\u001b[0m \u001b[1m0s\u001b[0m 3s/step - loss: 2.0325\n",
            "Epoch 72: loss improved from 2.07666 to 2.04699, saving model to ./tmp/checkpoints/model_epoch_72.weights.h5\n",
            "\u001b[1m22/22\u001b[0m \u001b[32m━━━━━━━━━━━━━━━━━━━━\u001b[0m\u001b[37m\u001b[0m \u001b[1m66s\u001b[0m 3s/step - loss: 2.0470\n",
            "Epoch 73/80\n",
            "\u001b[1m22/22\u001b[0m \u001b[32m━━━━━━━━━━━━━━━━━━━━\u001b[0m\u001b[37m\u001b[0m \u001b[1m0s\u001b[0m 3s/step - loss: 2.0021\n",
            "Epoch 73: loss improved from 2.04699 to 2.01840, saving model to ./tmp/checkpoints/model_epoch_73.weights.h5\n",
            "\u001b[1m22/22\u001b[0m \u001b[32m━━━━━━━━━━━━━━━━━━━━\u001b[0m\u001b[37m\u001b[0m \u001b[1m65s\u001b[0m 3s/step - loss: 2.0184\n",
            "Epoch 74/80\n",
            "\u001b[1m22/22\u001b[0m \u001b[32m━━━━━━━━━━━━━━━━━━━━\u001b[0m\u001b[37m\u001b[0m \u001b[1m0s\u001b[0m 3s/step - loss: 1.9791\n",
            "Epoch 74: loss improved from 2.01840 to 1.99463, saving model to ./tmp/checkpoints/model_epoch_74.weights.h5\n",
            "\u001b[1m22/22\u001b[0m \u001b[32m━━━━━━━━━━━━━━━━━━━━\u001b[0m\u001b[37m\u001b[0m \u001b[1m65s\u001b[0m 3s/step - loss: 1.9946\n",
            "Epoch 75/80\n",
            "\u001b[1m22/22\u001b[0m \u001b[32m━━━━━━━━━━━━━━━━━━━━\u001b[0m\u001b[37m\u001b[0m \u001b[1m0s\u001b[0m 3s/step - loss: 1.9488\n",
            "Epoch 75: loss improved from 1.99463 to 1.96436, saving model to ./tmp/checkpoints/model_epoch_75.weights.h5\n",
            "\u001b[1m22/22\u001b[0m \u001b[32m━━━━━━━━━━━━━━━━━━━━\u001b[0m\u001b[37m\u001b[0m \u001b[1m65s\u001b[0m 3s/step - loss: 1.9644\n",
            "Epoch 76/80\n",
            "\u001b[1m22/22\u001b[0m \u001b[32m━━━━━━━━━━━━━━━━━━━━\u001b[0m\u001b[37m\u001b[0m \u001b[1m0s\u001b[0m 3s/step - loss: 1.9249\n",
            "Epoch 76: loss improved from 1.96436 to 1.93970, saving model to ./tmp/checkpoints/model_epoch_76.weights.h5\n",
            "\u001b[1m22/22\u001b[0m \u001b[32m━━━━━━━━━━━━━━━━━━━━\u001b[0m\u001b[37m\u001b[0m \u001b[1m65s\u001b[0m 3s/step - loss: 1.9397\n",
            "Epoch 77/80\n",
            "\u001b[1m22/22\u001b[0m \u001b[32m━━━━━━━━━━━━━━━━━━━━\u001b[0m\u001b[37m\u001b[0m \u001b[1m0s\u001b[0m 3s/step - loss: 1.8887\n",
            "Epoch 77: loss improved from 1.93970 to 1.91434, saving model to ./tmp/checkpoints/model_epoch_77.weights.h5\n",
            "\u001b[1m22/22\u001b[0m \u001b[32m━━━━━━━━━━━━━━━━━━━━\u001b[0m\u001b[37m\u001b[0m \u001b[1m65s\u001b[0m 3s/step - loss: 1.9143\n",
            "Epoch 78/80\n",
            "\u001b[1m22/22\u001b[0m \u001b[32m━━━━━━━━━━━━━━━━━━━━\u001b[0m\u001b[37m\u001b[0m \u001b[1m0s\u001b[0m 3s/step - loss: 1.8775\n",
            "Epoch 78: loss improved from 1.91434 to 1.88768, saving model to ./tmp/checkpoints/model_epoch_78.weights.h5\n",
            "\u001b[1m22/22\u001b[0m \u001b[32m━━━━━━━━━━━━━━━━━━━━\u001b[0m\u001b[37m\u001b[0m \u001b[1m66s\u001b[0m 3s/step - loss: 1.8877\n",
            "Epoch 79/80\n",
            "\u001b[1m22/22\u001b[0m \u001b[32m━━━━━━━━━━━━━━━━━━━━\u001b[0m\u001b[37m\u001b[0m \u001b[1m0s\u001b[0m 3s/step - loss: 1.8396\n",
            "Epoch 79: loss improved from 1.88768 to 1.86253, saving model to ./tmp/checkpoints/model_epoch_79.weights.h5\n",
            "\u001b[1m22/22\u001b[0m \u001b[32m━━━━━━━━━━━━━━━━━━━━\u001b[0m\u001b[37m\u001b[0m \u001b[1m66s\u001b[0m 3s/step - loss: 1.8625\n",
            "Epoch 80/80\n",
            "\u001b[1m22/22\u001b[0m \u001b[32m━━━━━━━━━━━━━━━━━━━━\u001b[0m\u001b[37m\u001b[0m \u001b[1m0s\u001b[0m 3s/step - loss: 1.8272\n",
            "Epoch 80: loss improved from 1.86253 to 1.84030, saving model to ./tmp/checkpoints/model_epoch_80.weights.h5\n",
            "\u001b[1m22/22\u001b[0m \u001b[32m━━━━━━━━━━━━━━━━━━━━\u001b[0m\u001b[37m\u001b[0m \u001b[1m65s\u001b[0m 3s/step - loss: 1.8403\n"
          ]
        },
        {
          "name": "stderr",
          "output_type": "stream",
          "text": [
            "\u001b[34m\u001b[1mwandb\u001b[0m: \u001b[32m\u001b[41mERROR\u001b[0m The nbformat package was not found. It is required to save notebook history.\n"
          ]
        },
        {
          "data": {
            "text/html": [],
            "text/plain": [
              "<IPython.core.display.HTML object>"
            ]
          },
          "metadata": {},
          "output_type": "display_data"
        },
        {
          "data": {
            "text/html": [
              "<br>    <style><br>        .wandb-row {<br>            display: flex;<br>            flex-direction: row;<br>            flex-wrap: wrap;<br>            justify-content: flex-start;<br>            width: 100%;<br>        }<br>        .wandb-col {<br>            display: flex;<br>            flex-direction: column;<br>            flex-basis: 100%;<br>            flex: 1;<br>            padding: 10px;<br>        }<br>    </style><br><div class=\"wandb-row\"><div class=\"wandb-col\"><h3>Run history:</h3><br/><table class=\"wandb\"><tr><td>epoch/epoch</td><td>▁▁▁▁▂▂▂▃▃▃▃▃▄▄▄▄▄▅▅▅▅▅▅▆▆▆▆▆▆▆▇▇▇▇▇▇████</td></tr><tr><td>epoch/learning_rate</td><td>▁▁▁▁▁▁▁▁▁▁▁▁▁▁▁▁▁▁▁▁▁▁▁▁▁▁▁▁▁▁▁▁▁▁▁▁▁▁▁▁</td></tr><tr><td>epoch/loss</td><td>█▇▆▆▆▅▅▅▅▅▅▄▄▄▄▃▃▃▃▃▃▃▃▃▃▂▂▂▂▂▂▂▁▁▁▁▁▁▁▁</td></tr></table><br/></div><div class=\"wandb-col\"><h3>Run summary:</h3><br/><table class=\"wandb\"><tr><td>epoch/epoch</td><td>79</td></tr><tr><td>epoch/learning_rate</td><td>0.001</td></tr><tr><td>epoch/loss</td><td>1.8403</td></tr></table><br/></div></div>"
            ],
            "text/plain": [
              "<IPython.core.display.HTML object>"
            ]
          },
          "metadata": {},
          "output_type": "display_data"
        },
        {
          "data": {
            "text/html": [
              " View run <strong style=\"color:#cdcd00\">sweet-frog-21</strong> at: <a href='https://wandb.ai/dupaya-kth-royal-institute-of-technology/my-first-project/runs/pnf8f164' target=\"_blank\">https://wandb.ai/dupaya-kth-royal-institute-of-technology/my-first-project/runs/pnf8f164</a><br> View project at: <a href='https://wandb.ai/dupaya-kth-royal-institute-of-technology/my-first-project' target=\"_blank\">https://wandb.ai/dupaya-kth-royal-institute-of-technology/my-first-project</a><br>Synced 5 W&B file(s), 0 media file(s), 0 artifact file(s) and 0 other file(s)"
            ],
            "text/plain": [
              "<IPython.core.display.HTML object>"
            ]
          },
          "metadata": {},
          "output_type": "display_data"
        },
        {
          "data": {
            "text/html": [
              "Find logs at: <code>./wandb/run-20251011_175855-pnf8f164/logs</code>"
            ],
            "text/plain": [
              "<IPython.core.display.HTML object>"
            ]
          },
          "metadata": {},
          "output_type": "display_data"
        }
      ],
      "source": [
        "run = wandb.init(project='my-first-project', group='lstm-experiment')\n",
        "\n",
        "EPOCHS = 80\n",
        "wandb_callback = WandbMetricsLogger(log_freq='epoch')\n",
        "history = model.fit(\n",
        "    x=dataset,\n",
        "    epochs=EPOCHS,\n",
        "    callbacks=[\n",
        "        checkpoint_cb, early_stopping, wandb_callback\n",
        "    ]\n",
        ")\n",
        "\n",
        "run.finish()"
      ]
    },
    {
      "cell_type": "code",
      "execution_count": null,
      "metadata": {},
      "outputs": [],
      "source": [
        "def render_training_history(training_history):\n",
        "    loss = training_history.history['loss']\n",
        "    plt.title('Loss')\n",
        "    plt.xlabel('Epoch')\n",
        "    plt.ylabel('Loss')\n",
        "    plt.plot(loss, label='Training set')\n",
        "    plt.legend()\n",
        "    plt.grid(linestyle='--', linewidth=1, alpha=0.5)\n",
        "    plt.show()"
      ]
    },
    {
      "cell_type": "code",
      "execution_count": null,
      "metadata": {},
      "outputs": [],
      "source": [
        "render_training_history(history)"
      ]
    },
    {
      "cell_type": "markdown",
      "metadata": {},
      "source": [
        "# Load best model"
      ]
    },
    {
      "cell_type": "code",
      "execution_count": null,
      "metadata": {},
      "outputs": [],
      "source": [
        "tf.train.latest_checkpoint(checkpoint_dir)\n",
        "simplified_batch_size = 1\n",
        "\n",
        "model = build_model(vocab_size, embedding_dim, rnn_units, batch_size=1)\n",
        "\n",
        "model.load_weights('tmp/checkpoints/model_epoch_80.weights.h5')\n",
        "\n",
        "model.build(tf.TensorShape([simplified_batch_size, None]))"
      ]
    },
    {
      "cell_type": "code",
      "execution_count": null,
      "metadata": {},
      "outputs": [],
      "source": [
        "tf.train.latest_checkpoint(checkpoint_dir)\n",
        "import glob\n",
        "\n",
        "# Get list of all weight files\n",
        "weight_files = glob.glob(os.path.join(checkpoint_dir, '*.weights.h5'))\n",
        "\n",
        "if weight_files:\n",
        "    latest = max(weight_files, key=os.path.getctime)  # or sort by name, etc.\n",
        "    model.load_weights(latest)\n",
        "    print(f\"Loaded weights from: {latest}\")\n",
        "else:\n",
        "    print(\"No weights file found. Using randomly initialized model.\")"
      ]
    },
    {
      "cell_type": "code",
      "execution_count": null,
      "metadata": {},
      "outputs": [],
      "source": [
        "model.summary()"
      ]
    },
    {
      "cell_type": "markdown",
      "metadata": {},
      "source": [
        "# test model"
      ]
    },
    {
      "cell_type": "code",
      "execution_count": null,
      "metadata": {},
      "outputs": [],
      "source": [
        "model.summary()"
      ]
    },
    {
      "cell_type": "code",
      "execution_count": null,
      "metadata": {},
      "outputs": [],
      "source": [
        "def generate_text(model, start_string, num_generate=1000, temperature=1.0):\n",
        "    # Tokenize the start string\n",
        "    input_ids = custom_tokenizer.encode(start_string)\n",
        "    input_ids = tf.expand_dims(input_ids, 0)\n",
        "\n",
        "    # Empty list to store generated tokens\n",
        "    generated_tokens = []\n",
        "\n",
        "    # Reset states for RNN layers if they are stateful\n",
        "    for layer in model.layers:\n",
        "        if hasattr(layer, 'reset_states'):\n",
        "            layer.reset_states()\n",
        "\n",
        "    for _ in range(num_generate):\n",
        "        predictions = model(input_ids)\n",
        "        # Remove batch dimension\n",
        "        predictions = tf.squeeze(predictions, 0)\n",
        "\n",
        "        # Use the last prediction\n",
        "        predictions = predictions[-1:, :] / temperature\n",
        "        predicted_id = tf.random.categorical(\n",
        "            predictions,\n",
        "            num_samples=1\n",
        "        )[-1, 0].numpy()\n",
        "\n",
        "        # Append the predicted token\n",
        "        generated_tokens.append(predicted_id)\n",
        "\n",
        "        # Update input_ids for next prediction\n",
        "        input_ids = tf.expand_dims([predicted_id], 0)\n",
        "\n",
        "    # Decode the generated tokens\n",
        "    generated_text = custom_tokenizer.decode(generated_tokens)\n",
        "    \n",
        "    # Return the full text\n",
        "    return start_string + generated_text\n",
        "\n",
        "# Generate text with the model\n",
        "print(generate_text(model, start_string=\"Sherlock \", num_generate=500))"
      ]
    },
    {
      "cell_type": "code",
      "execution_count": null,
      "metadata": {},
      "outputs": [],
      "source": [
        "# Generate the text with default temperature (1.0).\n",
        "print(generate_text(model, start_string=u\"Sherlock \"))"
      ]
    },
    {
      "cell_type": "code",
      "execution_count": null,
      "metadata": {},
      "outputs": [],
      "source": [
        "# Generate the text with higher temperature to get more unexpected results.\n",
        "print(generate_text(model, start_string=u\"Sherlock: \", temperature=1.5))"
      ]
    },
    {
      "cell_type": "markdown",
      "metadata": {},
      "source": [
        "# Experiments"
      ]
    },
    {
      "cell_type": "markdown",
      "metadata": {},
      "source": [
        "## Experiments on grammar\n"
      ]
    },
    {
      "cell_type": "code",
      "execution_count": null,
      "metadata": {},
      "outputs": [],
      "source": [
        "import language_tool_python\n",
        "def evaluate_grammar_quality(generated_text):\n",
        "\n",
        "    try:\n",
        "        tool = language_tool_python.LanguageTool('en-GB')\n",
        "    except:\n",
        "        print(\"LanguageTool not available. Installing via pip...\")\n",
        "        import subprocess\n",
        "        import sys\n",
        "        subprocess.check_call([sys.executable, \"-m\", \"pip\", \"install\", \"language-tool-python\"])\n",
        "        tool = language_tool_python.LanguageTool('en-GB')\n",
        "    \n",
        "    # Find grammar and spelling errors\n",
        "    matches = tool.check(generated_text)\n",
        "    \n",
        "    # Count errors by category\n",
        "    error_categories = Counter()\n",
        "    for match in matches:\n",
        "        error_categories[match.category] = error_categories.get(match.category, 0) + 1\n",
        "    \n",
        "    # Calculate word count\n",
        "    words = re.findall(r'\\b\\w+\\b', generated_text)\n",
        "    word_count = len(words)\n",
        "    \n",
        "    # Calculate errors per 100 words\n",
        "    errors_per_100_words = (len(matches) / max(1, word_count)) * 100\n",
        "    \n",
        "    results = {\n",
        "        'total_errors': len(matches),\n",
        "        'error_categories': dict(error_categories),\n",
        "        'errors_per_100_words': errors_per_100_words,\n",
        "        'word_count': word_count\n",
        "    }\n",
        "    \n",
        "    return results\n",
        "\n",
        "def merge_error_categories(error_cat_list):\n",
        "    merged = Counter()\n",
        "    for error_cat in error_cat_list:\n",
        "        for category, count in error_cat.items():\n",
        "            merged[category] += count\n",
        "    \n",
        "    # Calculate averages\n",
        "    result = {category: count / len(error_cat_list) for category, count in merged.items()}\n",
        "    return result\n",
        "\n",
        "\n",
        "def run_evaluations(model, start_string, num_runs=5, num_tokens=300, temperatures=[0.7, 1.0]):\n",
        "    all_results = {}\n",
        "    \n",
        "    for temp in temperatures:\n",
        "        print(f\"\\nEvaluating temperature: {temp}\")\n",
        "        run_results = []\n",
        "        \n",
        "        for run in range(1, num_runs + 1):\n",
        "            print(f\"  Run {run}/{num_runs}...\")\n",
        "            text = generate_text(model, start_string, num_tokens, temp)\n",
        "            run_results.append(evaluate_grammar_quality(text))\n",
        "        \n",
        "        # Calculate averages across runs\n",
        "        avg_results = {\n",
        "            'total_errors': sum(r['total_errors'] for r in run_results) / num_runs,\n",
        "            'errors_per_100_words': sum(r['errors_per_100_words'] for r in run_results) / num_runs,\n",
        "            'word_count': sum(r['word_count'] for r in run_results) / num_runs,\n",
        "            'error_categories': merge_error_categories([r['error_categories'] for r in run_results])\n",
        "        }\n",
        "        \n",
        "        # Store individual runs for reference\n",
        "        avg_results['individual_runs'] = run_results\n",
        "        all_results[temp] = avg_results\n",
        "    \n",
        "    return all_results\n"
      ]
    },
    {
      "cell_type": "code",
      "execution_count": null,
      "metadata": {},
      "outputs": [],
      "source": [
        "# Define temperatures to test\n",
        "temperatures = [1.0]\n",
        "start_string = \"Sherlock\"\n",
        "\n",
        "# Run the evaluations 5 times for each temperature\n",
        "results = run_evaluations(model, start_string, num_runs=5, num_tokens=300, temperatures=temperatures)\n"
      ]
    },
    {
      "cell_type": "code",
      "execution_count": null,
      "metadata": {},
      "outputs": [],
      "source": [
        "\n",
        "# Print results\n",
        "print(\"\\n===== AVERAGED RESULTS =====\")\n",
        "for temp, result in results.items():\n",
        "    print(f\"\\nTemperature: {temp}\")\n",
        "    print(f\"Average total errors: {result['total_errors']:.2f}\")\n",
        "    print(f\"Average errors per 100 words: {result['errors_per_100_words']:.2f}\")\n",
        "    print(f\"Average word count: {result['word_count']:.2f}\")\n",
        "    print(\"Average error categories:\")\n",
        "    \n",
        "    # Sort categories by frequency for better readability\n",
        "    sorted_categories = sorted(\n",
        "        result['error_categories'].items(), \n",
        "        key=lambda x: x[1], \n",
        "        reverse=True\n",
        "    )\n",
        "    \n",
        "    for category, avg_count in sorted_categories:\n",
        "        print(f\"  - {category}: {avg_count:.2f}\")"
      ]
    },
    {
      "cell_type": "markdown",
      "metadata": {},
      "source": []
    }
  ],
  "metadata": {
    "accelerator": "GPU",
    "colab": {
      "gpuType": "T4",
      "provenance": []
    },
    "kernelspec": {
      "display_name": ".venv (3.12.7)",
      "language": "python",
      "name": "python3"
    },
    "language_info": {
      "codemirror_mode": {
        "name": "ipython",
        "version": 3
      },
      "file_extension": ".py",
      "mimetype": "text/x-python",
      "name": "python",
      "nbconvert_exporter": "python",
      "pygments_lexer": "ipython3",
      "version": "3.12.7"
    }
  },
  "nbformat": 4,
  "nbformat_minor": 0
}
